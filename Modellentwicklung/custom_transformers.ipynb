{
 "cells": [
  {
   "cell_type": "code",
   "execution_count": 3,
   "id": "def8eed9-8249-4ab5-be6b-1f6a16410571",
   "metadata": {},
   "outputs": [],
   "source": [
    "from sklearn.base import BaseEstimator, TransformerMixin\n",
    "\n",
    "class TimeFeaturesExtractor(BaseEstimator, TransformerMixin):\n",
    "    def __init__(self):\n",
    "        pass\n",
    "\n",
    "    def extract_time_features(df):\n",
    "        #df['tmsp'] = pd.to_datetime(df['tmsp'])\n",
    "        df['hour'] = df['tmsp'].dt.hour\n",
    "        df['minute'] = df['tmsp'].dt.minute\n",
    "        df['second'] = df['tmsp'].dt.second\n",
    "        df['weekday'] = df['tmsp'].dt.weekday\n",
    "        return df[['hour', 'minute', 'second', 'weekday']]"
   ]
  }
 ],
 "metadata": {
  "kernelspec": {
   "display_name": "Python 3 (ipykernel)",
   "language": "python",
   "name": "python3"
  },
  "language_info": {
   "codemirror_mode": {
    "name": "ipython",
    "version": 3
   },
   "file_extension": ".py",
   "mimetype": "text/x-python",
   "name": "python",
   "nbconvert_exporter": "python",
   "pygments_lexer": "ipython3",
   "version": "3.11.4"
  }
 },
 "nbformat": 4,
 "nbformat_minor": 5
}
