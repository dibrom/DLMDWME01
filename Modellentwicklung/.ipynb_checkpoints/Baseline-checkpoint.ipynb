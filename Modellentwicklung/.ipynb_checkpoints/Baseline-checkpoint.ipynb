{
 "cells": [
  {
   "cell_type": "markdown",
   "id": "7a42d0d9-ef3a-4d12-9b87-26772776f306",
   "metadata": {},
   "source": [
    "## Baseline Modell\n",
    "In diesem notebook wird das Baseline Modell erstellt.  \n",
    "Das Baseline Modell ist ein einfaches Modell, das als Anfangspunkt für die Vorhersage genutzt wird. Das Hauptmodell muss die Vorhersagequalität des Baseline Modells übersteigen."
   ]
  },
  {
   "cell_type": "code",
   "execution_count": 1,
   "id": "c2d456d6-9e70-42c1-b3bc-85413f599544",
   "metadata": {},
   "outputs": [],
   "source": [
    "import pandas as pd"
   ]
  },
  {
   "cell_type": "markdown",
   "id": "4c38bf40-2bf6-4e54-b7e6-5511ea152861",
   "metadata": {},
   "source": [
    "#### Vorbereiten der Daten"
   ]
  },
  {
   "cell_type": "code",
   "execution_count": 2,
   "id": "3aa8766e-a39d-4483-b24e-58e088033fce",
   "metadata": {},
   "outputs": [
    {
     "data": {
      "text/html": [
       "<div>\n",
       "<style scoped>\n",
       "    .dataframe tbody tr th:only-of-type {\n",
       "        vertical-align: middle;\n",
       "    }\n",
       "\n",
       "    .dataframe tbody tr th {\n",
       "        vertical-align: top;\n",
       "    }\n",
       "\n",
       "    .dataframe thead th {\n",
       "        text-align: right;\n",
       "    }\n",
       "</style>\n",
       "<table border=\"1\" class=\"dataframe\">\n",
       "  <thead>\n",
       "    <tr style=\"text-align: right;\">\n",
       "      <th></th>\n",
       "      <th>Id</th>\n",
       "      <th>tmsp</th>\n",
       "      <th>country</th>\n",
       "      <th>amount</th>\n",
       "      <th>success</th>\n",
       "      <th>PSP</th>\n",
       "      <th>3D_secured</th>\n",
       "      <th>card</th>\n",
       "    </tr>\n",
       "  </thead>\n",
       "  <tbody>\n",
       "    <tr>\n",
       "      <th>0</th>\n",
       "      <td>0</td>\n",
       "      <td>2023-10-01 00:01:11</td>\n",
       "      <td>Germany</td>\n",
       "      <td>89</td>\n",
       "      <td>0</td>\n",
       "      <td>UK_Card</td>\n",
       "      <td>0</td>\n",
       "      <td>Visa</td>\n",
       "    </tr>\n",
       "    <tr>\n",
       "      <th>1</th>\n",
       "      <td>1</td>\n",
       "      <td>2023-10-01 00:01:17</td>\n",
       "      <td>Germany</td>\n",
       "      <td>89</td>\n",
       "      <td>1</td>\n",
       "      <td>UK_Card</td>\n",
       "      <td>0</td>\n",
       "      <td>Visa</td>\n",
       "    </tr>\n",
       "    <tr>\n",
       "      <th>2</th>\n",
       "      <td>2</td>\n",
       "      <td>2023-10-01 00:02:49</td>\n",
       "      <td>Germany</td>\n",
       "      <td>238</td>\n",
       "      <td>0</td>\n",
       "      <td>UK_Card</td>\n",
       "      <td>1</td>\n",
       "      <td>Diners</td>\n",
       "    </tr>\n",
       "    <tr>\n",
       "      <th>3</th>\n",
       "      <td>3</td>\n",
       "      <td>2023-10-01 00:03:13</td>\n",
       "      <td>Germany</td>\n",
       "      <td>238</td>\n",
       "      <td>1</td>\n",
       "      <td>UK_Card</td>\n",
       "      <td>1</td>\n",
       "      <td>Diners</td>\n",
       "    </tr>\n",
       "    <tr>\n",
       "      <th>4</th>\n",
       "      <td>4</td>\n",
       "      <td>2023-10-01 00:04:33</td>\n",
       "      <td>Austria</td>\n",
       "      <td>124</td>\n",
       "      <td>0</td>\n",
       "      <td>Simplecard</td>\n",
       "      <td>0</td>\n",
       "      <td>Diners</td>\n",
       "    </tr>\n",
       "  </tbody>\n",
       "</table>\n",
       "</div>"
      ],
      "text/plain": [
       "   Id                tmsp  country  amount  success         PSP  3D_secured  \\\n",
       "0   0 2023-10-01 00:01:11  Germany      89        0     UK_Card           0   \n",
       "1   1 2023-10-01 00:01:17  Germany      89        1     UK_Card           0   \n",
       "2   2 2023-10-01 00:02:49  Germany     238        0     UK_Card           1   \n",
       "3   3 2023-10-01 00:03:13  Germany     238        1     UK_Card           1   \n",
       "4   4 2023-10-01 00:04:33  Austria     124        0  Simplecard           0   \n",
       "\n",
       "     card  \n",
       "0    Visa  \n",
       "1    Visa  \n",
       "2  Diners  \n",
       "3  Diners  \n",
       "4  Diners  "
      ]
     },
     "execution_count": 2,
     "metadata": {},
     "output_type": "execute_result"
    }
   ],
   "source": [
    "# Laden der Excel-Datei in ein Pandas Dataframe\n",
    "df_psp = pd.read_excel('C:/Users/Ibrom/Studium/DLMDWME01/PSP_Okt_Dez_2023.xlsx', sheet_name='Sheet1')\n",
    "\n",
    "#df_psp.head()"
   ]
  },
  {
   "cell_type": "markdown",
   "id": "67a43b45-0e6a-4062-be0f-e3dc9314fa52",
   "metadata": {},
   "source": [
    "#### Baseline-Modell"
   ]
  },
  {
   "cell_type": "code",
   "execution_count": 3,
   "id": "3b196d37-8f25-4ee3-9a74-62b3c413f110",
   "metadata": {},
   "outputs": [],
   "source": [
    "def BaselineModell(psp_index: int):\n",
    "    # Liste der PSP-Namen\n",
    "    psp_names = ['Goldcard', 'Moneycard', 'Simplecard', 'UK_Card']\n",
    "\n",
    "    # Überprüfen, ob der Eingabewert gültig ist\n",
    "    if 0 <= psp_index <= 3:\n",
    "\n",
    "        # Berechnen der durchschnittlichen Erfolgswahrscheinlichkeit für jeden PSP\n",
    "        avg_success_rate = df_psp.groupby('PSP')['success'].mean()\n",
    "        # Ausgabe der durchschnittlichen Erfolgswahrscheinlichkeit für jeden PSP\n",
    "        return avg_success_rate[psp_names[psp_index]]\n",
    "    else:\n",
    "        #print(\"Ungültiger Eingabewert. Bitte geben Sie eine Ganzzahl zwischen 0 und 3 ein.\")\n",
    "        return -1\n",
    "\n"
   ]
  },
  {
   "cell_type": "code",
   "execution_count": 4,
   "id": "883b0a3f-1ff0-441e-b3ad-50f5076f2694",
   "metadata": {},
   "outputs": [
    {
     "name": "stdout",
     "output_type": "stream",
     "text": [
      "0.4061720698254364\n",
      "0.21875376642159816\n",
      "0.15812309175638758\n",
      "0.1943384103707623\n",
      "-1\n"
     ]
    }
   ],
   "source": [
    "# Beispielaufruf der Funktion\n",
    "print(BaselineModell(0))  # Goldcard\n",
    "print(BaselineModell(1))  # Moneycard\n",
    "print(BaselineModell(2))  # Simplecard\n",
    "print(BaselineModell(3))  # UK_Card\n",
    "print(BaselineModell(6))  # ungültig"
   ]
  },
  {
   "cell_type": "code",
   "execution_count": null,
   "id": "59889c30-7cd6-402c-a9fe-da9f09f7cd64",
   "metadata": {},
   "outputs": [],
   "source": []
  }
 ],
 "metadata": {
  "kernelspec": {
   "display_name": "Python 3 (ipykernel)",
   "language": "python",
   "name": "python3"
  },
  "language_info": {
   "codemirror_mode": {
    "name": "ipython",
    "version": 3
   },
   "file_extension": ".py",
   "mimetype": "text/x-python",
   "name": "python",
   "nbconvert_exporter": "python",
   "pygments_lexer": "ipython3",
   "version": "3.11.4"
  }
 },
 "nbformat": 4,
 "nbformat_minor": 5
}
