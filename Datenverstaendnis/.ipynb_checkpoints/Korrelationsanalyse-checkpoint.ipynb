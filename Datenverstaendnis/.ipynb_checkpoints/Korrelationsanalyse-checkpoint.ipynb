{
 "cells": [
  {
   "cell_type": "code",
   "execution_count": 16,
   "id": "8b6e6aaa-6173-4674-94c8-627e1d731f8d",
   "metadata": {},
   "outputs": [],
   "source": [
    "import pandas as pd\n",
    "import plotly.express as px\n",
    "from datetime import timedelta\n",
    "import plotly.graph_objects as go\n",
    "from pyod.models.knn import KNN\n",
    "from pyod.models.ecod import ECOD\n",
    "from scipy.stats import chi2_contingency\n"
   ]
  },
  {
   "cell_type": "markdown",
   "id": "d77dba74-9f99-47e1-afe6-ca4cc04e2a96",
   "metadata": {},
   "source": [
    "#### Importieren der Datei"
   ]
  },
  {
   "cell_type": "code",
   "execution_count": 3,
   "id": "6bd33752-4e38-4a99-bdf6-e063e65dd376",
   "metadata": {
    "scrolled": true
   },
   "outputs": [
    {
     "data": {
      "text/html": [
       "<div>\n",
       "<style scoped>\n",
       "    .dataframe tbody tr th:only-of-type {\n",
       "        vertical-align: middle;\n",
       "    }\n",
       "\n",
       "    .dataframe tbody tr th {\n",
       "        vertical-align: top;\n",
       "    }\n",
       "\n",
       "    .dataframe thead th {\n",
       "        text-align: right;\n",
       "    }\n",
       "</style>\n",
       "<table border=\"1\" class=\"dataframe\">\n",
       "  <thead>\n",
       "    <tr style=\"text-align: right;\">\n",
       "      <th></th>\n",
       "      <th>Id</th>\n",
       "      <th>tmsp</th>\n",
       "      <th>country</th>\n",
       "      <th>amount</th>\n",
       "      <th>success</th>\n",
       "      <th>PSP</th>\n",
       "      <th>3D_secured</th>\n",
       "      <th>card</th>\n",
       "    </tr>\n",
       "  </thead>\n",
       "  <tbody>\n",
       "    <tr>\n",
       "      <th>0</th>\n",
       "      <td>0</td>\n",
       "      <td>2019-01-01 00:01:11</td>\n",
       "      <td>Germany</td>\n",
       "      <td>89</td>\n",
       "      <td>0</td>\n",
       "      <td>UK_Card</td>\n",
       "      <td>0</td>\n",
       "      <td>Visa</td>\n",
       "    </tr>\n",
       "    <tr>\n",
       "      <th>1</th>\n",
       "      <td>1</td>\n",
       "      <td>2019-01-01 00:01:17</td>\n",
       "      <td>Germany</td>\n",
       "      <td>89</td>\n",
       "      <td>1</td>\n",
       "      <td>UK_Card</td>\n",
       "      <td>0</td>\n",
       "      <td>Visa</td>\n",
       "    </tr>\n",
       "    <tr>\n",
       "      <th>2</th>\n",
       "      <td>2</td>\n",
       "      <td>2019-01-01 00:02:49</td>\n",
       "      <td>Germany</td>\n",
       "      <td>238</td>\n",
       "      <td>0</td>\n",
       "      <td>UK_Card</td>\n",
       "      <td>1</td>\n",
       "      <td>Diners</td>\n",
       "    </tr>\n",
       "    <tr>\n",
       "      <th>3</th>\n",
       "      <td>3</td>\n",
       "      <td>2019-01-01 00:03:13</td>\n",
       "      <td>Germany</td>\n",
       "      <td>238</td>\n",
       "      <td>1</td>\n",
       "      <td>UK_Card</td>\n",
       "      <td>1</td>\n",
       "      <td>Diners</td>\n",
       "    </tr>\n",
       "    <tr>\n",
       "      <th>4</th>\n",
       "      <td>4</td>\n",
       "      <td>2019-01-01 00:04:33</td>\n",
       "      <td>Austria</td>\n",
       "      <td>124</td>\n",
       "      <td>0</td>\n",
       "      <td>Simplecard</td>\n",
       "      <td>0</td>\n",
       "      <td>Diners</td>\n",
       "    </tr>\n",
       "  </tbody>\n",
       "</table>\n",
       "</div>"
      ],
      "text/plain": [
       "   Id                tmsp  country  amount  success         PSP  3D_secured  \\\n",
       "0   0 2019-01-01 00:01:11  Germany      89        0     UK_Card           0   \n",
       "1   1 2019-01-01 00:01:17  Germany      89        1     UK_Card           0   \n",
       "2   2 2019-01-01 00:02:49  Germany     238        0     UK_Card           1   \n",
       "3   3 2019-01-01 00:03:13  Germany     238        1     UK_Card           1   \n",
       "4   4 2019-01-01 00:04:33  Austria     124        0  Simplecard           0   \n",
       "\n",
       "     card  \n",
       "0    Visa  \n",
       "1    Visa  \n",
       "2  Diners  \n",
       "3  Diners  \n",
       "4  Diners  "
      ]
     },
     "execution_count": 3,
     "metadata": {},
     "output_type": "execute_result"
    }
   ],
   "source": [
    "# Laden der Excel-Datei in ein Pandas Dataframe\n",
    "df_psp = pd.read_excel('C:/Users/Ibrom/Studium/DLMDWME01/PSP_Jan_Feb_2019.xlsx', sheet_name='Sheet1')\n",
    "\n",
    "# Umbenennen der ersten Spalte in 'Id'\n",
    "df_psp = df_psp.rename(columns={df_psp.columns[0]: 'Id'})\n",
    "\n",
    "df_psp.head()"
   ]
  },
  {
   "cell_type": "code",
   "execution_count": null,
   "id": "aae45698-78ca-46ba-b437-e841b417705c",
   "metadata": {},
   "outputs": [],
   "source": [
    "# Add 57 month to transfer date from Jan-Feb 2019 to Okt-Nov 2023\n",
    "df_psp.tmsp = df_psp.tmsp + pd.DateOffset(months=57)"
   ]
  },
  {
   "cell_type": "markdown",
   "id": "19528c25-bb3c-45e4-8656-652bca8aff57",
   "metadata": {},
   "source": [
    "### Korrelationsanalyse"
   ]
  },
  {
   "cell_type": "code",
   "execution_count": 21,
   "id": "89b7352d-5c8c-4663-8b0e-f3ca7627f15e",
   "metadata": {},
   "outputs": [
    {
     "name": "stdout",
     "output_type": "stream",
     "text": [
      "PSP     Goldcard  Moneycard  Simplecard  UK_Card\n",
      "card                                            \n",
      "Diners       670       1667        2356     5075\n",
      "Master      1763       4765        7245    15229\n",
      "Visa         775       1865        2845     6155\n",
      "\n",
      "Chi-Quadrat Statistik: 16.04005658272315\n",
      "p-Wert: 0.013540575127843202\n"
     ]
    }
   ],
   "source": [
    "\n",
    "# Erstellen Sie eine Kreuztabelle der Variablen 'card' und 'PSP'\n",
    "cross_tab = pd.crosstab(df_psp['card'], df_psp['PSP'])\n",
    "\n",
    "print(cross_tab)\n",
    "\n",
    "# Führen Sie den Chi-Quadrat-Test durch\n",
    "chi2, p, dof, expected = chi2_contingency(cross_tab)\n",
    "\n",
    "print(f\"\\nChi-Quadrat Statistik: {chi2}\")\n",
    "print(f\"p-Wert: {p}\")"
   ]
  },
  {
   "cell_type": "code",
   "execution_count": 20,
   "id": "7c7af8d8-f38e-4b1c-a1e9-16c5a8f9e7cc",
   "metadata": {},
   "outputs": [
    {
     "name": "stdout",
     "output_type": "stream",
     "text": [
      "PSP      Goldcard  Moneycard  Simplecard  UK_Card\n",
      "success                                          \n",
      "0            1905       6482       10478    21317\n",
      "1            1303       1815        1968     5142\n",
      "\n",
      "Chi-Quadrat Statistik: 998.7783848081615\n",
      "p-Wert: 3.312365253382584e-216\n"
     ]
    }
   ],
   "source": [
    "\n",
    "# Erstellen Sie eine Kreuztabelle der Variablen 'Success' und 'PSP'\n",
    "cross_tab = pd.crosstab(df_psp['success'], df_psp['PSP'])\n",
    "\n",
    "print(cross_tab)\n",
    "\n",
    "# Führen Sie den Chi-Quadrat-Test durch\n",
    "chi2, p, dof, expected = chi2_contingency(cross_tab)\n",
    "\n",
    "print(f\"\\nChi-Quadrat Statistik: {chi2}\")\n",
    "print(f\"p-Wert: {p}\")"
   ]
  },
  {
   "cell_type": "code",
   "execution_count": 29,
   "id": "f7a40cfa-b6b0-42b3-bf11-38fb5f6f6648",
   "metadata": {
    "scrolled": true
   },
   "outputs": [
    {
     "name": "stdout",
     "output_type": "stream",
     "text": [
      "                  amount  PSP_Goldcard  PSP_Moneycard  PSP_Simplecard  \\\n",
      "amount          1.000000      0.002707      -0.002318       -0.006180   \n",
      "PSP_Goldcard    0.002707      1.000000      -0.115715       -0.149268   \n",
      "PSP_Moneycard  -0.002318     -0.115715       1.000000       -0.254145   \n",
      "PSP_Simplecard -0.006180     -0.149268      -0.254145        1.000000   \n",
      "PSP_UK_Card     0.005734     -0.274007      -0.466528       -0.601802   \n",
      "\n",
      "                PSP_UK_Card  \n",
      "amount             0.005734  \n",
      "PSP_Goldcard      -0.274007  \n",
      "PSP_Moneycard     -0.466528  \n",
      "PSP_Simplecard    -0.601802  \n",
      "PSP_UK_Card        1.000000  \n"
     ]
    }
   ],
   "source": [
    "df_encoded_psp = pd.get_dummies(df_psp, columns=['PSP'])\n",
    "df_encoded_psp.head()\n",
    "correlation_matrix_psp = df_encoded_psp[['amount','PSP_Goldcard', 'PSP_Moneycard', 'PSP_Simplecard', 'PSP_UK_Card']].corr()\n",
    "print(correlation_matrix_psp)"
   ]
  },
  {
   "cell_type": "code",
   "execution_count": 42,
   "id": "25d254da-daa5-4308-aecc-3b671830b129",
   "metadata": {},
   "outputs": [
    {
     "name": "stdout",
     "output_type": "stream",
     "text": [
      "               amount  card_Diners  card_Master  card_Visa\n",
      "amount       1.000000     0.000303    -0.002547   0.002703\n",
      "card_Diners  0.000303     1.000000    -0.570612  -0.268623\n",
      "card_Master -0.002547    -0.570612     1.000000  -0.637756\n",
      "card_Visa    0.002703    -0.268623    -0.637756   1.000000\n"
     ]
    }
   ],
   "source": [
    "df_encoded_card = pd.get_dummies(df_psp, columns=['card'])\n",
    "#df_encoded_card.head()\n",
    "correlation_matrix_card = df_encoded_card[['amount','card_Diners', 'card_Master', 'card_Visa']].corr()\n",
    "print(correlation_matrix_card)"
   ]
  },
  {
   "cell_type": "code",
   "execution_count": 41,
   "id": "da59f764-80c6-45a3-8da8-c70004d5ba77",
   "metadata": {},
   "outputs": [
    {
     "name": "stdout",
     "output_type": "stream",
     "text": [
      "             success_0  success_1  card_Diners  card_Master  card_Visa\n",
      "success_0     1.000000  -1.000000    -0.024474     0.026086  -0.007642\n",
      "success_1    -1.000000   1.000000     0.024474    -0.026086   0.007642\n",
      "card_Diners  -0.024474   0.024474     1.000000    -0.570612  -0.268623\n",
      "card_Master   0.026086  -0.026086    -0.570612     1.000000  -0.637756\n",
      "card_Visa    -0.007642   0.007642    -0.268623    -0.637756   1.000000\n"
     ]
    }
   ],
   "source": [
    "df_encoded_card_success = pd.get_dummies(df_psp, columns=['card'])\n",
    "df_encoded_card_success = pd.get_dummies(df_encoded_card_success, columns=['success'])\n",
    "df_encoded_card_success.head()\n",
    "correlation_matrix_card_success = df_encoded_card_success[['success_0','success_1', 'card_Diners', 'card_Master', 'card_Visa']].corr()\n",
    "print(correlation_matrix_card_success)"
   ]
  },
  {
   "cell_type": "code",
   "execution_count": 46,
   "id": "3239e042-ee3e-4a5d-be64-ba27259d985f",
   "metadata": {},
   "outputs": [
    {
     "name": "stdout",
     "output_type": "stream",
     "text": [
      "                success_0  success_1  PSP_Goldcard  PSP_Moneycard  \\\n",
      "success_0        1.000000  -1.000000     -0.131774      -0.017502   \n",
      "success_1       -1.000000   1.000000      0.131774       0.017502   \n",
      "PSP_Goldcard    -0.131774   0.131774      1.000000      -0.115715   \n",
      "PSP_Moneycard   -0.017502   0.017502     -0.115715       1.000000   \n",
      "PSP_Simplecard   0.063746  -0.063746     -0.149268      -0.254145   \n",
      "PSP_UK_Card      0.022366  -0.022366     -0.274007      -0.466528   \n",
      "\n",
      "                PSP_Simplecard  PSP_UK_Card  \n",
      "success_0             0.063746     0.022366  \n",
      "success_1            -0.063746    -0.022366  \n",
      "PSP_Goldcard         -0.149268    -0.274007  \n",
      "PSP_Moneycard        -0.254145    -0.466528  \n",
      "PSP_Simplecard        1.000000    -0.601802  \n",
      "PSP_UK_Card          -0.601802     1.000000  \n"
     ]
    }
   ],
   "source": [
    "df_encoded_psp_success = pd.get_dummies(df_psp, columns=['PSP'])\n",
    "df_encoded_psp_success = pd.get_dummies(df_encoded_psp_success, columns=['success'])\n",
    "df_encoded_psp_success.head()\n",
    "correlation_matrix_psp_success = df_encoded_psp_success[['success_0','success_1', 'PSP_Goldcard', 'PSP_Moneycard', 'PSP_Simplecard', 'PSP_UK_Card']].corr()\n",
    "print(correlation_matrix_psp_success)"
   ]
  },
  {
   "cell_type": "code",
   "execution_count": null,
   "id": "f56d0b55-4d3c-467d-ab68-e0808cb86e6c",
   "metadata": {},
   "outputs": [],
   "source": [
    "#tmsp - country\n",
    "#tmsp - amount\n",
    "#tmsp - success\n",
    "#tmsp - PSP\n",
    "#tmsp - 3D_secured\n",
    "#tmsp - card"
   ]
  },
  {
   "cell_type": "code",
   "execution_count": null,
   "id": "b6ace4b3-6519-43c8-bd5d-ee020b19527e",
   "metadata": {},
   "outputs": [],
   "source": [
    "#country - amount\n",
    "#country - success\n",
    "#country - PSP\n",
    "#country - 3D_secured\n",
    "#country - card"
   ]
  },
  {
   "cell_type": "code",
   "execution_count": null,
   "id": "56737e31-a36c-4932-a625-a3949a1969d7",
   "metadata": {},
   "outputs": [],
   "source": [
    "#amount - success\n",
    "#amount - PSP\n",
    "#amount - 3D_secured\n",
    "#amount - card"
   ]
  },
  {
   "cell_type": "code",
   "execution_count": null,
   "id": "8c2fecb9-4306-4332-a604-16a30b4142ba",
   "metadata": {},
   "outputs": [],
   "source": [
    "#success - PSP\n",
    "#success - 3D_secured\n",
    "#success - card"
   ]
  },
  {
   "cell_type": "code",
   "execution_count": null,
   "id": "22ba725f-748f-4958-b2b8-f90e5874a290",
   "metadata": {},
   "outputs": [],
   "source": [
    "#PSP - 3D_secured\n",
    "#PSP - card"
   ]
  },
  {
   "cell_type": "code",
   "execution_count": null,
   "id": "8c40a388-3eb7-4e33-bfbb-2c2fc2b2bf77",
   "metadata": {},
   "outputs": [],
   "source": [
    "#3D_secured - card"
   ]
  }
 ],
 "metadata": {
  "kernelspec": {
   "display_name": "Python 3 (ipykernel)",
   "language": "python",
   "name": "python3"
  },
  "language_info": {
   "codemirror_mode": {
    "name": "ipython",
    "version": 3
   },
   "file_extension": ".py",
   "mimetype": "text/x-python",
   "name": "python",
   "nbconvert_exporter": "python",
   "pygments_lexer": "ipython3",
   "version": "3.11.4"
  }
 },
 "nbformat": 4,
 "nbformat_minor": 5
}
