{
 "cells": [
  {
   "cell_type": "code",
   "execution_count": 1,
   "id": "8b6e6aaa-6173-4674-94c8-627e1d731f8d",
   "metadata": {},
   "outputs": [],
   "source": [
    "import pandas as pd\n",
    "import plotly.express as px\n",
    "from datetime import timedelta\n",
    "import plotly.graph_objects as go\n",
    "from pyod.models.knn import KNN\n",
    "from pyod.models.ecod import ECOD\n",
    "from scipy.stats import chi2_contingency\n"
   ]
  },
  {
   "cell_type": "markdown",
   "id": "d77dba74-9f99-47e1-afe6-ca4cc04e2a96",
   "metadata": {},
   "source": [
    "#### Importieren der Datei"
   ]
  },
  {
   "cell_type": "code",
   "execution_count": 2,
   "id": "6bd33752-4e38-4a99-bdf6-e063e65dd376",
   "metadata": {
    "scrolled": true
   },
   "outputs": [
    {
     "data": {
      "text/html": [
       "<div>\n",
       "<style scoped>\n",
       "    .dataframe tbody tr th:only-of-type {\n",
       "        vertical-align: middle;\n",
       "    }\n",
       "\n",
       "    .dataframe tbody tr th {\n",
       "        vertical-align: top;\n",
       "    }\n",
       "\n",
       "    .dataframe thead th {\n",
       "        text-align: right;\n",
       "    }\n",
       "</style>\n",
       "<table border=\"1\" class=\"dataframe\">\n",
       "  <thead>\n",
       "    <tr style=\"text-align: right;\">\n",
       "      <th></th>\n",
       "      <th>Id</th>\n",
       "      <th>tmsp</th>\n",
       "      <th>country</th>\n",
       "      <th>amount</th>\n",
       "      <th>success</th>\n",
       "      <th>PSP</th>\n",
       "      <th>3D_secured</th>\n",
       "      <th>card</th>\n",
       "    </tr>\n",
       "  </thead>\n",
       "  <tbody>\n",
       "    <tr>\n",
       "      <th>0</th>\n",
       "      <td>0</td>\n",
       "      <td>2023-11-01 00:01:11</td>\n",
       "      <td>Germany</td>\n",
       "      <td>89</td>\n",
       "      <td>0</td>\n",
       "      <td>UK_Card</td>\n",
       "      <td>0</td>\n",
       "      <td>Visa</td>\n",
       "    </tr>\n",
       "    <tr>\n",
       "      <th>1</th>\n",
       "      <td>1</td>\n",
       "      <td>2023-11-01 00:01:17</td>\n",
       "      <td>Germany</td>\n",
       "      <td>89</td>\n",
       "      <td>1</td>\n",
       "      <td>UK_Card</td>\n",
       "      <td>0</td>\n",
       "      <td>Visa</td>\n",
       "    </tr>\n",
       "    <tr>\n",
       "      <th>2</th>\n",
       "      <td>2</td>\n",
       "      <td>2023-11-01 00:02:49</td>\n",
       "      <td>Germany</td>\n",
       "      <td>238</td>\n",
       "      <td>0</td>\n",
       "      <td>UK_Card</td>\n",
       "      <td>1</td>\n",
       "      <td>Diners</td>\n",
       "    </tr>\n",
       "    <tr>\n",
       "      <th>3</th>\n",
       "      <td>3</td>\n",
       "      <td>2023-11-01 00:03:13</td>\n",
       "      <td>Germany</td>\n",
       "      <td>238</td>\n",
       "      <td>1</td>\n",
       "      <td>UK_Card</td>\n",
       "      <td>1</td>\n",
       "      <td>Diners</td>\n",
       "    </tr>\n",
       "    <tr>\n",
       "      <th>4</th>\n",
       "      <td>4</td>\n",
       "      <td>2023-11-01 00:04:33</td>\n",
       "      <td>Austria</td>\n",
       "      <td>124</td>\n",
       "      <td>0</td>\n",
       "      <td>Simplecard</td>\n",
       "      <td>0</td>\n",
       "      <td>Diners</td>\n",
       "    </tr>\n",
       "  </tbody>\n",
       "</table>\n",
       "</div>"
      ],
      "text/plain": [
       "   Id                tmsp  country  amount  success         PSP  3D_secured  \\\n",
       "0   0 2023-11-01 00:01:11  Germany      89        0     UK_Card           0   \n",
       "1   1 2023-11-01 00:01:17  Germany      89        1     UK_Card           0   \n",
       "2   2 2023-11-01 00:02:49  Germany     238        0     UK_Card           1   \n",
       "3   3 2023-11-01 00:03:13  Germany     238        1     UK_Card           1   \n",
       "4   4 2023-11-01 00:04:33  Austria     124        0  Simplecard           0   \n",
       "\n",
       "     card  \n",
       "0    Visa  \n",
       "1    Visa  \n",
       "2  Diners  \n",
       "3  Diners  \n",
       "4  Diners  "
      ]
     },
     "execution_count": 2,
     "metadata": {},
     "output_type": "execute_result"
    }
   ],
   "source": [
    "# Laden der Excel-Datei in ein Pandas Dataframe\n",
    "df_psp = pd.read_excel('C:/Users/Ibrom/Studium/DLMDWME01/PSP_Nov_Dez_2023.xlsx', sheet_name='Sheet1')\n",
    "\n",
    "# Umbenennen der ersten Spalte in 'Id'\n",
    "df_psp = df_psp.rename(columns={df_psp.columns[0]: 'Id'})\n",
    "\n",
    "df_psp.head()"
   ]
  },
  {
   "cell_type": "markdown",
   "id": "19528c25-bb3c-45e4-8656-652bca8aff57",
   "metadata": {},
   "source": [
    "### Korrelationsanalyse"
   ]
  },
  {
   "cell_type": "code",
   "execution_count": 3,
   "id": "972b844f-d040-4163-a010-576c70804a45",
   "metadata": {},
   "outputs": [
    {
     "name": "stdout",
     "output_type": "stream",
     "text": [
      "success          0     1\n",
      "country                 \n",
      "Austria       7826  2013\n",
      "Germany      24145  6088\n",
      "Switzerland   8211  2127\n",
      "\n",
      "Chi-Quadrat Statistik: 1.1301983763676842\n",
      "p-Wert: 0.5683037749425706\n"
     ]
    }
   ],
   "source": [
    "#1\n",
    "#country - success\n",
    "# Erstellen Sie eine Kreuztabelle der Variablen 'country' und 'success'\n",
    "cross_tab = pd.crosstab(df_psp['country'], df_psp['success'])\n",
    "\n",
    "print(cross_tab)\n",
    "\n",
    "# Führen Sie den Chi-Quadrat-Test durch\n",
    "chi2, p, dof, expected = chi2_contingency(cross_tab)\n",
    "\n",
    "print(f\"\\nChi-Quadrat Statistik: {chi2}\")\n",
    "print(f\"p-Wert: {p}\")"
   ]
  },
  {
   "cell_type": "code",
   "execution_count": 4,
   "id": "b6e20093-6366-4d19-b3e4-1ca640c57945",
   "metadata": {},
   "outputs": [
    {
     "name": "stdout",
     "output_type": "stream",
     "text": [
      "PSP          Goldcard  Moneycard  Simplecard  UK_Card\n",
      "country                                              \n",
      "Austria           583       1654        2414     5188\n",
      "Germany          1939       4960        7431    15903\n",
      "Switzerland       686       1683        2601     5368\n",
      "\n",
      "Chi-Quadrat Statistik: 7.259988555280152\n",
      "p-Wert: 0.2974714886826989\n"
     ]
    }
   ],
   "source": [
    "#2\n",
    "#country - PSP\n",
    "# Erstellen Sie eine Kreuztabelle der Variablen 'country' und 'PSP'\n",
    "cross_tab = pd.crosstab(df_psp['country'], df_psp['PSP'])\n",
    "\n",
    "print(cross_tab)\n",
    "\n",
    "# Führen Sie den Chi-Quadrat-Test durch\n",
    "chi2, p, dof, expected = chi2_contingency(cross_tab)\n",
    "\n",
    "print(f\"\\nChi-Quadrat Statistik: {chi2}\")\n",
    "print(f\"p-Wert: {p}\")"
   ]
  },
  {
   "cell_type": "code",
   "execution_count": 5,
   "id": "626ffe03-de6c-4375-a9e2-db190c8478ac",
   "metadata": {},
   "outputs": [
    {
     "name": "stdout",
     "output_type": "stream",
     "text": [
      "3D_secured       0     1\n",
      "country                 \n",
      "Austria       7417  2422\n",
      "Germany      23083  7150\n",
      "Switzerland   7899  2439\n",
      "\n",
      "Chi-Quadrat Statistik: 4.214434986996636\n",
      "p-Wert: 0.1215757816317695\n"
     ]
    }
   ],
   "source": [
    "#3\n",
    "#country - 3D_secured\n",
    "# Erstellen Sie eine Kreuztabelle der Variablen 'country' und '3D_secured'\n",
    "cross_tab = pd.crosstab(df_psp['country'], df_psp['3D_secured'])\n",
    "\n",
    "print(cross_tab)\n",
    "\n",
    "# Führen Sie den Chi-Quadrat-Test durch\n",
    "chi2, p, dof, expected = chi2_contingency(cross_tab)\n",
    "\n",
    "print(f\"\\nChi-Quadrat Statistik: {chi2}\")\n",
    "print(f\"p-Wert: {p}\")"
   ]
  },
  {
   "cell_type": "code",
   "execution_count": 6,
   "id": "af41826c-f1e6-4911-acba-c28b6b5f8715",
   "metadata": {},
   "outputs": [
    {
     "name": "stdout",
     "output_type": "stream",
     "text": [
      "card         Diners  Master  Visa\n",
      "country                          \n",
      "Austria        1927    5700  2212\n",
      "Germany        5747   17428  7058\n",
      "Switzerland    2094    5874  2370\n",
      "\n",
      "Chi-Quadrat Statistik: 10.254639269482068\n",
      "p-Wert: 0.03634995786578327\n"
     ]
    }
   ],
   "source": [
    "#4\n",
    "#country - card\n",
    "# Erstellen Sie eine Kreuztabelle der Variablen 'country' und 'card'\n",
    "cross_tab = pd.crosstab(df_psp['country'], df_psp['card'])\n",
    "\n",
    "print(cross_tab)\n",
    "\n",
    "# Führen Sie den Chi-Quadrat-Test durch\n",
    "chi2, p, dof, expected = chi2_contingency(cross_tab)\n",
    "\n",
    "print(f\"\\nChi-Quadrat Statistik: {chi2}\")\n",
    "print(f\"p-Wert: {p}\")"
   ]
  },
  {
   "cell_type": "code",
   "execution_count": 7,
   "id": "4de06967-29b3-440c-b1be-0974e8dc88f6",
   "metadata": {},
   "outputs": [
    {
     "name": "stdout",
     "output_type": "stream",
     "text": [
      "PSP      Goldcard  Moneycard  Simplecard  UK_Card\n",
      "success                                          \n",
      "0            1905       6482       10478    21317\n",
      "1            1303       1815        1968     5142\n",
      "\n",
      "Chi-Quadrat Statistik: 998.7783848081615\n",
      "p-Wert: 3.312365253382584e-216\n"
     ]
    }
   ],
   "source": [
    "#5\n",
    "#success - PSP\n",
    "# Erstellen Sie eine Kreuztabelle der Variablen 'success' und 'PSP'\n",
    "cross_tab = pd.crosstab(df_psp['success'], df_psp['PSP'])\n",
    "\n",
    "print(cross_tab)\n",
    "\n",
    "# Führen Sie den Chi-Quadrat-Test durch\n",
    "chi2, p, dof, expected = chi2_contingency(cross_tab)\n",
    "\n",
    "print(f\"\\nChi-Quadrat Statistik: {chi2}\")\n",
    "print(f\"p-Wert: {p}\")"
   ]
  },
  {
   "cell_type": "code",
   "execution_count": 8,
   "id": "2268c991-eb58-411e-9758-3aba3395a78b",
   "metadata": {},
   "outputs": [
    {
     "name": "stdout",
     "output_type": "stream",
     "text": [
      "3D_secured      0     1\n",
      "success                \n",
      "0           31120  9062\n",
      "1            7279  2949\n",
      "\n",
      "Chi-Quadrat Statistik: 176.82445096077714\n",
      "p-Wert: 2.3922411665484545e-40\n"
     ]
    }
   ],
   "source": [
    "#6\n",
    "#success - 3D_secured\n",
    "# Erstellen Sie eine Kreuztabelle der Variablen 'success' und '3D_secured'\n",
    "cross_tab = pd.crosstab(df_psp['success'], df_psp['3D_secured'])\n",
    "\n",
    "print(cross_tab)\n",
    "\n",
    "# Führen Sie den Chi-Quadrat-Test durch\n",
    "chi2, p, dof, expected = chi2_contingency(cross_tab)\n",
    "\n",
    "print(f\"\\nChi-Quadrat Statistik: {chi2}\")\n",
    "print(f\"p-Wert: {p}\")"
   ]
  },
  {
   "cell_type": "code",
   "execution_count": 9,
   "id": "9c25dff4-fa19-49a0-bdcb-edc16ac6accc",
   "metadata": {},
   "outputs": [
    {
     "name": "stdout",
     "output_type": "stream",
     "text": [
      "card     Diners  Master  Visa\n",
      "success                      \n",
      "0          7590   23379  9213\n",
      "1          2178    5623  2427\n",
      "\n",
      "Chi-Quadrat Statistik: 41.17629928597987\n",
      "p-Wert: 1.144669780335135e-09\n"
     ]
    }
   ],
   "source": [
    "#7\n",
    "#success - card\n",
    "# Erstellen Sie eine Kreuztabelle der Variablen 'success' und 'card'\n",
    "cross_tab = pd.crosstab(df_psp['success'], df_psp['card'])\n",
    "\n",
    "print(cross_tab)\n",
    "\n",
    "# Führen Sie den Chi-Quadrat-Test durch\n",
    "chi2, p, dof, expected = chi2_contingency(cross_tab)\n",
    "\n",
    "print(f\"\\nChi-Quadrat Statistik: {chi2}\")\n",
    "print(f\"p-Wert: {p}\")"
   ]
  },
  {
   "cell_type": "code",
   "execution_count": 10,
   "id": "b92968f2-7e09-4637-909b-7257c9754bd0",
   "metadata": {},
   "outputs": [
    {
     "name": "stdout",
     "output_type": "stream",
     "text": [
      "3D_secured      0     1\n",
      "PSP                    \n",
      "Goldcard     2427   781\n",
      "Moneycard    6305  1992\n",
      "Simplecard   9478  2968\n",
      "UK_Card     20189  6270\n",
      "\n",
      "Chi-Quadrat Statistik: 0.8748341984574648\n",
      "p-Wert: 0.8314962527036547\n"
     ]
    }
   ],
   "source": [
    "#8\n",
    "#PSP - 3D_secured\n",
    "# Erstellen Sie eine Kreuztabelle der Variablen 'PSP' und '3D_secured'\n",
    "cross_tab = pd.crosstab(df_psp['PSP'], df_psp['3D_secured'])\n",
    "\n",
    "print(cross_tab)\n",
    "\n",
    "# Führen Sie den Chi-Quadrat-Test durch\n",
    "chi2, p, dof, expected = chi2_contingency(cross_tab)\n",
    "\n",
    "print(f\"\\nChi-Quadrat Statistik: {chi2}\")\n",
    "print(f\"p-Wert: {p}\")"
   ]
  },
  {
   "cell_type": "code",
   "execution_count": 11,
   "id": "a04e3381-cafa-46a6-ba51-51611055475f",
   "metadata": {},
   "outputs": [
    {
     "name": "stdout",
     "output_type": "stream",
     "text": [
      "card        Diners  Master  Visa\n",
      "PSP                             \n",
      "Goldcard       670    1763   775\n",
      "Moneycard     1667    4765  1865\n",
      "Simplecard    2356    7245  2845\n",
      "UK_Card       5075   15229  6155\n",
      "\n",
      "Chi-Quadrat Statistik: 16.04005658272315\n",
      "p-Wert: 0.013540575127843202\n"
     ]
    }
   ],
   "source": [
    "#9\n",
    "#PSP - card\n",
    "# Erstellen Sie eine Kreuztabelle der Variablen 'PSP' und 'card'\n",
    "cross_tab = pd.crosstab(df_psp['PSP'], df_psp['card'])\n",
    "\n",
    "print(cross_tab)\n",
    "\n",
    "# Führen Sie den Chi-Quadrat-Test durch\n",
    "chi2, p, dof, expected = chi2_contingency(cross_tab)\n",
    "\n",
    "print(f\"\\nChi-Quadrat Statistik: {chi2}\")\n",
    "print(f\"p-Wert: {p}\")"
   ]
  },
  {
   "cell_type": "code",
   "execution_count": 12,
   "id": "77b6eae0-702d-4132-b951-94e08c564e31",
   "metadata": {},
   "outputs": [
    {
     "name": "stdout",
     "output_type": "stream",
     "text": [
      "card        Diners  Master  Visa\n",
      "3D_secured                      \n",
      "0             7353   22081  8965\n",
      "1             2415    6921  2675\n",
      "\n",
      "Chi-Quadrat Statistik: 8.937184818787301\n",
      "p-Wert: 0.01146344033043573\n"
     ]
    }
   ],
   "source": [
    "#10\n",
    "#3D_secured - card\n",
    "# Erstellen Sie eine Kreuztabelle der Variablen '3D_secured' und 'card'\n",
    "cross_tab = pd.crosstab(df_psp['3D_secured'], df_psp['card'])\n",
    "\n",
    "print(cross_tab)\n",
    "\n",
    "# Führen Sie den Chi-Quadrat-Test durch\n",
    "chi2, p, dof, expected = chi2_contingency(cross_tab)\n",
    "\n",
    "print(f\"\\nChi-Quadrat Statistik: {chi2}\")\n",
    "print(f\"p-Wert: {p}\")"
   ]
  },
  {
   "cell_type": "markdown",
   "id": "ff014eec-3958-4585-a601-5c632b4179e2",
   "metadata": {},
   "source": [
    "###"
   ]
  },
  {
   "cell_type": "markdown",
   "id": "162381e3-6e92-401b-8b97-39e9d26fd774",
   "metadata": {},
   "source": [
    "#### Korrelations Matrizen: Pearson-Korrelation"
   ]
  },
  {
   "cell_type": "code",
   "execution_count": 13,
   "id": "90330d35-50f0-45e1-83be-e039ee658ccb",
   "metadata": {
    "scrolled": true
   },
   "outputs": [
    {
     "data": {
      "text/html": [
       "<div>\n",
       "<style scoped>\n",
       "    .dataframe tbody tr th:only-of-type {\n",
       "        vertical-align: middle;\n",
       "    }\n",
       "\n",
       "    .dataframe tbody tr th {\n",
       "        vertical-align: top;\n",
       "    }\n",
       "\n",
       "    .dataframe thead th {\n",
       "        text-align: right;\n",
       "    }\n",
       "</style>\n",
       "<table border=\"1\" class=\"dataframe\">\n",
       "  <thead>\n",
       "    <tr style=\"text-align: right;\">\n",
       "      <th></th>\n",
       "      <th>Id</th>\n",
       "      <th>tmsp</th>\n",
       "      <th>country</th>\n",
       "      <th>amount</th>\n",
       "      <th>success</th>\n",
       "      <th>PSP</th>\n",
       "      <th>3D_secured</th>\n",
       "      <th>card</th>\n",
       "      <th>tmsp_hour</th>\n",
       "      <th>tmsp_minute</th>\n",
       "      <th>tmsp_hourMinute</th>\n",
       "      <th>tmsp_weekday</th>\n",
       "    </tr>\n",
       "  </thead>\n",
       "  <tbody>\n",
       "    <tr>\n",
       "      <th>0</th>\n",
       "      <td>0</td>\n",
       "      <td>2023-11-01 00:01:11</td>\n",
       "      <td>Germany</td>\n",
       "      <td>89</td>\n",
       "      <td>0</td>\n",
       "      <td>UK_Card</td>\n",
       "      <td>0</td>\n",
       "      <td>Visa</td>\n",
       "      <td>0</td>\n",
       "      <td>1</td>\n",
       "      <td>1</td>\n",
       "      <td>3</td>\n",
       "    </tr>\n",
       "    <tr>\n",
       "      <th>1</th>\n",
       "      <td>1</td>\n",
       "      <td>2023-11-01 00:01:17</td>\n",
       "      <td>Germany</td>\n",
       "      <td>89</td>\n",
       "      <td>1</td>\n",
       "      <td>UK_Card</td>\n",
       "      <td>0</td>\n",
       "      <td>Visa</td>\n",
       "      <td>0</td>\n",
       "      <td>1</td>\n",
       "      <td>1</td>\n",
       "      <td>3</td>\n",
       "    </tr>\n",
       "    <tr>\n",
       "      <th>2</th>\n",
       "      <td>2</td>\n",
       "      <td>2023-11-01 00:02:49</td>\n",
       "      <td>Germany</td>\n",
       "      <td>238</td>\n",
       "      <td>0</td>\n",
       "      <td>UK_Card</td>\n",
       "      <td>1</td>\n",
       "      <td>Diners</td>\n",
       "      <td>0</td>\n",
       "      <td>2</td>\n",
       "      <td>2</td>\n",
       "      <td>3</td>\n",
       "    </tr>\n",
       "    <tr>\n",
       "      <th>3</th>\n",
       "      <td>3</td>\n",
       "      <td>2023-11-01 00:03:13</td>\n",
       "      <td>Germany</td>\n",
       "      <td>238</td>\n",
       "      <td>1</td>\n",
       "      <td>UK_Card</td>\n",
       "      <td>1</td>\n",
       "      <td>Diners</td>\n",
       "      <td>0</td>\n",
       "      <td>3</td>\n",
       "      <td>3</td>\n",
       "      <td>3</td>\n",
       "    </tr>\n",
       "    <tr>\n",
       "      <th>4</th>\n",
       "      <td>4</td>\n",
       "      <td>2023-11-01 00:04:33</td>\n",
       "      <td>Austria</td>\n",
       "      <td>124</td>\n",
       "      <td>0</td>\n",
       "      <td>Simplecard</td>\n",
       "      <td>0</td>\n",
       "      <td>Diners</td>\n",
       "      <td>0</td>\n",
       "      <td>4</td>\n",
       "      <td>4</td>\n",
       "      <td>3</td>\n",
       "    </tr>\n",
       "  </tbody>\n",
       "</table>\n",
       "</div>"
      ],
      "text/plain": [
       "   Id                tmsp  country  amount  success         PSP  3D_secured  \\\n",
       "0   0 2023-11-01 00:01:11  Germany      89        0     UK_Card           0   \n",
       "1   1 2023-11-01 00:01:17  Germany      89        1     UK_Card           0   \n",
       "2   2 2023-11-01 00:02:49  Germany     238        0     UK_Card           1   \n",
       "3   3 2023-11-01 00:03:13  Germany     238        1     UK_Card           1   \n",
       "4   4 2023-11-01 00:04:33  Austria     124        0  Simplecard           0   \n",
       "\n",
       "     card  tmsp_hour  tmsp_minute  tmsp_hourMinute  tmsp_weekday  \n",
       "0    Visa          0            1                1             3  \n",
       "1    Visa          0            1                1             3  \n",
       "2  Diners          0            2                2             3  \n",
       "3  Diners          0            3                3             3  \n",
       "4  Diners          0            4                4             3  "
      ]
     },
     "execution_count": 13,
     "metadata": {},
     "output_type": "execute_result"
    }
   ],
   "source": [
    "# Stellen Sie sicher, dass 'tmsp' im datetime-Format ist\n",
    "#df_psp['tmsp'] = pd.to_datetime(df_psp['tmsp'])\n",
    "\n",
    "# Erzeugung der neuen Spalten\n",
    "df_psp_time = df_psp.copy() # Erstellung eines Kopie des ursprünglichen Dataframes\n",
    "df_psp_time['tmsp_hour'] = df_psp['tmsp'].dt.hour\n",
    "df_psp_time['tmsp_minute'] = df_psp['tmsp'].dt.minute\n",
    "df_psp_time['tmsp_hourMinute'] = df_psp['tmsp'].dt.hour * 100 + df_psp['tmsp'].dt.minute\n",
    "df_psp_time['tmsp_weekday'] = df_psp['tmsp'].dt.weekday + 1 # In Python ist Montag = 0, deswegen fügen wir 1 hinzu um Montag = 1 zu bekommen\n",
    "df_psp_time.head()"
   ]
  },
  {
   "cell_type": "code",
   "execution_count": 14,
   "id": "4a331896-3169-4878-94c1-fb73e7717524",
   "metadata": {},
   "outputs": [],
   "source": [
    "#df_psp_time.iloc[10500:10510]"
   ]
  },
  {
   "cell_type": "code",
   "execution_count": 15,
   "id": "f56d0b55-4d3c-467d-ab68-e0808cb86e6c",
   "metadata": {},
   "outputs": [
    {
     "name": "stdout",
     "output_type": "stream",
     "text": [
      "                     tmsp_hourMinute  country_Austria  country_Germany  \\\n",
      "tmsp_hourMinute             1.000000         0.005941        -0.004526   \n",
      "country_Austria             0.005941         1.000000        -0.602809   \n",
      "country_Germany            -0.004526        -0.602809         1.000000   \n",
      "country_Switzerland        -0.000340        -0.250130        -0.621742   \n",
      "\n",
      "                     country_Switzerland  \n",
      "tmsp_hourMinute                -0.000340  \n",
      "country_Austria                -0.250130  \n",
      "country_Germany                -0.621742  \n",
      "country_Switzerland             1.000000  \n"
     ]
    }
   ],
   "source": [
    "#1\n",
    "#tmsp - country\n",
    "df_encoded_tmsp_country = pd.get_dummies(df_psp_time, columns=['country'])\n",
    "df_encoded_tmsp_country.head()\n",
    "correlation_matrix_tmsp_country = df_encoded_tmsp_country[['tmsp_hourMinute','country_Austria', 'country_Germany', 'country_Switzerland']].corr()\n",
    "print(correlation_matrix_tmsp_country)"
   ]
  },
  {
   "cell_type": "code",
   "execution_count": 16,
   "id": "b6ace4b3-6519-43c8-bd5d-ee020b19527e",
   "metadata": {},
   "outputs": [
    {
     "name": "stdout",
     "output_type": "stream",
     "text": [
      "                 tmsp_hourMinute    amount\n",
      "tmsp_hourMinute         1.000000  0.014143\n",
      "amount                  0.014143  1.000000\n"
     ]
    }
   ],
   "source": [
    "#2\n",
    "#tmsp - amount\n",
    "correlation_matrix_tmsp_amount = df_encoded_tmsp_country[['tmsp_hourMinute','amount']].corr()\n",
    "print(correlation_matrix_tmsp_amount)"
   ]
  },
  {
   "cell_type": "code",
   "execution_count": 17,
   "id": "6e28e88a-f6d5-43e8-9a8b-2aadbf52f85d",
   "metadata": {},
   "outputs": [
    {
     "name": "stdout",
     "output_type": "stream",
     "text": [
      "                 tmsp_hourMinute  success_0  success_1\n",
      "tmsp_hourMinute         1.000000  -0.007945   0.007945\n",
      "success_0              -0.007945   1.000000  -1.000000\n",
      "success_1               0.007945  -1.000000   1.000000\n"
     ]
    }
   ],
   "source": [
    "#3\n",
    "#tmsp - success\n",
    "df_encoded_tmsp_success = pd.get_dummies(df_psp_time, columns=['success'])\n",
    "df_encoded_tmsp_success.head()\n",
    "correlation_matrix_tmsp_success = df_encoded_tmsp_success[['tmsp_hourMinute','success_0', 'success_1']].corr()\n",
    "print(correlation_matrix_tmsp_success)"
   ]
  },
  {
   "cell_type": "code",
   "execution_count": 18,
   "id": "311cb352-4987-4aa9-a46b-76a7f8792df0",
   "metadata": {},
   "outputs": [
    {
     "name": "stdout",
     "output_type": "stream",
     "text": [
      "                 tmsp_hourMinute  PSP_Goldcard  PSP_Moneycard  PSP_Simplecard  \\\n",
      "tmsp_hourMinute         1.000000     -0.002037       0.001271        0.004066   \n",
      "PSP_Goldcard           -0.002037      1.000000      -0.115715       -0.149268   \n",
      "PSP_Moneycard           0.001271     -0.115715       1.000000       -0.254145   \n",
      "PSP_Simplecard          0.004066     -0.149268      -0.254145        1.000000   \n",
      "PSP_UK_Card            -0.003459     -0.274007      -0.466528       -0.601802   \n",
      "\n",
      "                 PSP_UK_Card  \n",
      "tmsp_hourMinute    -0.003459  \n",
      "PSP_Goldcard       -0.274007  \n",
      "PSP_Moneycard      -0.466528  \n",
      "PSP_Simplecard     -0.601802  \n",
      "PSP_UK_Card         1.000000  \n"
     ]
    }
   ],
   "source": [
    "#4\n",
    "#tmsp - PSP\n",
    "df_encoded_tmsp_PSP = pd.get_dummies(df_psp_time, columns=['PSP'])\n",
    "df_encoded_tmsp_PSP.head()\n",
    "correlation_matrix_tmsp_PSP = df_encoded_tmsp_PSP[['tmsp_hourMinute','PSP_Goldcard', 'PSP_Moneycard', 'PSP_Simplecard', 'PSP_UK_Card']].corr()\n",
    "print(correlation_matrix_tmsp_PSP)"
   ]
  },
  {
   "cell_type": "code",
   "execution_count": 19,
   "id": "3035f3f6-650d-4c4f-8a86-a731feaf2a6f",
   "metadata": {},
   "outputs": [
    {
     "name": "stdout",
     "output_type": "stream",
     "text": [
      "                 tmsp_hourMinute  3D_secured_0  3D_secured_1\n",
      "tmsp_hourMinute         1.000000     -0.002414      0.002414\n",
      "3D_secured_0           -0.002414      1.000000     -1.000000\n",
      "3D_secured_1            0.002414     -1.000000      1.000000\n"
     ]
    }
   ],
   "source": [
    "#5\n",
    "#tmsp - 3D_secured\n",
    "df_encoded_tmsp_3D_secured = pd.get_dummies(df_psp_time, columns=['3D_secured'])\n",
    "df_encoded_tmsp_3D_secured.head()\n",
    "correlation_matrix_tmsp_3D_secured = df_encoded_tmsp_3D_secured[['tmsp_hourMinute','3D_secured_0', '3D_secured_1']].corr()\n",
    "print(correlation_matrix_tmsp_3D_secured)"
   ]
  },
  {
   "cell_type": "code",
   "execution_count": 20,
   "id": "1f2553fb-d94d-4405-9e9b-6563d2b5cb3d",
   "metadata": {},
   "outputs": [
    {
     "name": "stdout",
     "output_type": "stream",
     "text": [
      "                 tmsp_hourMinute  card_Diners  card_Master  card_Visa\n",
      "tmsp_hourMinute         1.000000    -0.005823     0.012121  -0.008756\n",
      "card_Diners            -0.005823     1.000000    -0.570612  -0.268623\n",
      "card_Master             0.012121    -0.570612     1.000000  -0.637756\n",
      "card_Visa              -0.008756    -0.268623    -0.637756   1.000000\n"
     ]
    }
   ],
   "source": [
    "#6\n",
    "#tmsp - card\n",
    "df_encoded_tmsp_card = pd.get_dummies(df_psp_time, columns=['card'])\n",
    "df_encoded_tmsp_card.head()\n",
    "correlation_matrix_tmsp_card = df_encoded_tmsp_card[['tmsp_hourMinute','card_Diners', 'card_Master', 'card_Visa']].corr()\n",
    "print(correlation_matrix_tmsp_card)"
   ]
  },
  {
   "cell_type": "code",
   "execution_count": 21,
   "id": "9e465cef-7e23-441e-af38-4e365f455929",
   "metadata": {},
   "outputs": [
    {
     "data": {
      "text/html": [
       "<div>\n",
       "<style scoped>\n",
       "    .dataframe tbody tr th:only-of-type {\n",
       "        vertical-align: middle;\n",
       "    }\n",
       "\n",
       "    .dataframe tbody tr th {\n",
       "        vertical-align: top;\n",
       "    }\n",
       "\n",
       "    .dataframe thead th {\n",
       "        text-align: right;\n",
       "    }\n",
       "</style>\n",
       "<table border=\"1\" class=\"dataframe\">\n",
       "  <thead>\n",
       "    <tr style=\"text-align: right;\">\n",
       "      <th></th>\n",
       "      <th>Id</th>\n",
       "      <th>tmsp</th>\n",
       "      <th>amount</th>\n",
       "      <th>success</th>\n",
       "      <th>PSP</th>\n",
       "      <th>3D_secured</th>\n",
       "      <th>card</th>\n",
       "      <th>country_Austria</th>\n",
       "      <th>country_Germany</th>\n",
       "      <th>country_Switzerland</th>\n",
       "    </tr>\n",
       "  </thead>\n",
       "  <tbody>\n",
       "    <tr>\n",
       "      <th>0</th>\n",
       "      <td>0</td>\n",
       "      <td>2023-11-01 00:01:11</td>\n",
       "      <td>89</td>\n",
       "      <td>0</td>\n",
       "      <td>UK_Card</td>\n",
       "      <td>0</td>\n",
       "      <td>Visa</td>\n",
       "      <td>False</td>\n",
       "      <td>True</td>\n",
       "      <td>False</td>\n",
       "    </tr>\n",
       "    <tr>\n",
       "      <th>1</th>\n",
       "      <td>1</td>\n",
       "      <td>2023-11-01 00:01:17</td>\n",
       "      <td>89</td>\n",
       "      <td>1</td>\n",
       "      <td>UK_Card</td>\n",
       "      <td>0</td>\n",
       "      <td>Visa</td>\n",
       "      <td>False</td>\n",
       "      <td>True</td>\n",
       "      <td>False</td>\n",
       "    </tr>\n",
       "    <tr>\n",
       "      <th>2</th>\n",
       "      <td>2</td>\n",
       "      <td>2023-11-01 00:02:49</td>\n",
       "      <td>238</td>\n",
       "      <td>0</td>\n",
       "      <td>UK_Card</td>\n",
       "      <td>1</td>\n",
       "      <td>Diners</td>\n",
       "      <td>False</td>\n",
       "      <td>True</td>\n",
       "      <td>False</td>\n",
       "    </tr>\n",
       "    <tr>\n",
       "      <th>3</th>\n",
       "      <td>3</td>\n",
       "      <td>2023-11-01 00:03:13</td>\n",
       "      <td>238</td>\n",
       "      <td>1</td>\n",
       "      <td>UK_Card</td>\n",
       "      <td>1</td>\n",
       "      <td>Diners</td>\n",
       "      <td>False</td>\n",
       "      <td>True</td>\n",
       "      <td>False</td>\n",
       "    </tr>\n",
       "    <tr>\n",
       "      <th>4</th>\n",
       "      <td>4</td>\n",
       "      <td>2023-11-01 00:04:33</td>\n",
       "      <td>124</td>\n",
       "      <td>0</td>\n",
       "      <td>Simplecard</td>\n",
       "      <td>0</td>\n",
       "      <td>Diners</td>\n",
       "      <td>True</td>\n",
       "      <td>False</td>\n",
       "      <td>False</td>\n",
       "    </tr>\n",
       "    <tr>\n",
       "      <th>...</th>\n",
       "      <td>...</td>\n",
       "      <td>...</td>\n",
       "      <td>...</td>\n",
       "      <td>...</td>\n",
       "      <td>...</td>\n",
       "      <td>...</td>\n",
       "      <td>...</td>\n",
       "      <td>...</td>\n",
       "      <td>...</td>\n",
       "      <td>...</td>\n",
       "    </tr>\n",
       "    <tr>\n",
       "      <th>50405</th>\n",
       "      <td>50405</td>\n",
       "      <td>2023-12-28 23:45:39</td>\n",
       "      <td>415</td>\n",
       "      <td>0</td>\n",
       "      <td>UK_Card</td>\n",
       "      <td>0</td>\n",
       "      <td>Visa</td>\n",
       "      <td>False</td>\n",
       "      <td>False</td>\n",
       "      <td>True</td>\n",
       "    </tr>\n",
       "    <tr>\n",
       "      <th>50406</th>\n",
       "      <td>50406</td>\n",
       "      <td>2023-12-28 23:46:48</td>\n",
       "      <td>91</td>\n",
       "      <td>0</td>\n",
       "      <td>UK_Card</td>\n",
       "      <td>0</td>\n",
       "      <td>Master</td>\n",
       "      <td>True</td>\n",
       "      <td>False</td>\n",
       "      <td>False</td>\n",
       "    </tr>\n",
       "    <tr>\n",
       "      <th>50407</th>\n",
       "      <td>50407</td>\n",
       "      <td>2023-12-28 23:47:04</td>\n",
       "      <td>91</td>\n",
       "      <td>0</td>\n",
       "      <td>UK_Card</td>\n",
       "      <td>0</td>\n",
       "      <td>Master</td>\n",
       "      <td>True</td>\n",
       "      <td>False</td>\n",
       "      <td>False</td>\n",
       "    </tr>\n",
       "    <tr>\n",
       "      <th>50408</th>\n",
       "      <td>50408</td>\n",
       "      <td>2023-12-28 23:47:36</td>\n",
       "      <td>91</td>\n",
       "      <td>0</td>\n",
       "      <td>UK_Card</td>\n",
       "      <td>0</td>\n",
       "      <td>Master</td>\n",
       "      <td>True</td>\n",
       "      <td>False</td>\n",
       "      <td>False</td>\n",
       "    </tr>\n",
       "    <tr>\n",
       "      <th>50409</th>\n",
       "      <td>50409</td>\n",
       "      <td>2023-12-28 23:48:19</td>\n",
       "      <td>91</td>\n",
       "      <td>1</td>\n",
       "      <td>Moneycard</td>\n",
       "      <td>0</td>\n",
       "      <td>Master</td>\n",
       "      <td>True</td>\n",
       "      <td>False</td>\n",
       "      <td>False</td>\n",
       "    </tr>\n",
       "  </tbody>\n",
       "</table>\n",
       "<p>50410 rows × 10 columns</p>\n",
       "</div>"
      ],
      "text/plain": [
       "          Id                tmsp  amount  success         PSP  3D_secured  \\\n",
       "0          0 2023-11-01 00:01:11      89        0     UK_Card           0   \n",
       "1          1 2023-11-01 00:01:17      89        1     UK_Card           0   \n",
       "2          2 2023-11-01 00:02:49     238        0     UK_Card           1   \n",
       "3          3 2023-11-01 00:03:13     238        1     UK_Card           1   \n",
       "4          4 2023-11-01 00:04:33     124        0  Simplecard           0   \n",
       "...      ...                 ...     ...      ...         ...         ...   \n",
       "50405  50405 2023-12-28 23:45:39     415        0     UK_Card           0   \n",
       "50406  50406 2023-12-28 23:46:48      91        0     UK_Card           0   \n",
       "50407  50407 2023-12-28 23:47:04      91        0     UK_Card           0   \n",
       "50408  50408 2023-12-28 23:47:36      91        0     UK_Card           0   \n",
       "50409  50409 2023-12-28 23:48:19      91        1   Moneycard           0   \n",
       "\n",
       "         card  country_Austria  country_Germany  country_Switzerland  \n",
       "0        Visa            False             True                False  \n",
       "1        Visa            False             True                False  \n",
       "2      Diners            False             True                False  \n",
       "3      Diners            False             True                False  \n",
       "4      Diners             True            False                False  \n",
       "...       ...              ...              ...                  ...  \n",
       "50405    Visa            False            False                 True  \n",
       "50406  Master             True            False                False  \n",
       "50407  Master             True            False                False  \n",
       "50408  Master             True            False                False  \n",
       "50409  Master             True            False                False  \n",
       "\n",
       "[50410 rows x 10 columns]"
      ]
     },
     "execution_count": 21,
     "metadata": {},
     "output_type": "execute_result"
    }
   ],
   "source": [
    "#country \n",
    "df_encoded_country = pd.get_dummies(df_psp, columns=['country'])\n",
    "df_encoded_country"
   ]
  },
  {
   "cell_type": "code",
   "execution_count": 22,
   "id": "6a94f493-6119-4f0a-af1f-b492b6d6a62f",
   "metadata": {},
   "outputs": [
    {
     "name": "stdout",
     "output_type": "stream",
     "text": [
      "                     country_Austria  country_Germany  country_Switzerland  \\\n",
      "country_Austria             1.000000        -0.602809            -0.250130   \n",
      "country_Germany            -0.602809         1.000000            -0.621742   \n",
      "country_Switzerland        -0.250130        -0.621742             1.000000   \n",
      "amount                     -0.001509         0.005445            -0.005127   \n",
      "\n",
      "                       amount  \n",
      "country_Austria     -0.001509  \n",
      "country_Germany      0.005445  \n",
      "country_Switzerland -0.005127  \n",
      "amount               1.000000  \n"
     ]
    }
   ],
   "source": [
    "#7\n",
    "#country - amount\n",
    "correlation_matrix_country_success = df_encoded_country[['country_Austria', 'country_Germany','country_Switzerland','amount']].corr()\n",
    "print(correlation_matrix_country_success)"
   ]
  },
  {
   "cell_type": "code",
   "execution_count": 23,
   "id": "01e0573e-510e-4c06-8da1-b1bc17ac3d22",
   "metadata": {},
   "outputs": [
    {
     "name": "stdout",
     "output_type": "stream",
     "text": [
      "                     country_Austria  country_Germany  country_Switzerland  \\\n",
      "country_Austria             1.000000        -0.602809            -0.250130   \n",
      "country_Germany            -0.602809         1.000000            -0.621742   \n",
      "country_Switzerland        -0.250130        -0.621742             1.000000   \n",
      "success_0                  -0.002079         0.004648            -0.003599   \n",
      "success_1                   0.002079        -0.004648             0.003599   \n",
      "\n",
      "                     success_0  success_1  \n",
      "country_Austria      -0.002079   0.002079  \n",
      "country_Germany       0.004648  -0.004648  \n",
      "country_Switzerland  -0.003599   0.003599  \n",
      "success_0             1.000000  -1.000000  \n",
      "success_1            -1.000000   1.000000  \n"
     ]
    }
   ],
   "source": [
    "#8\n",
    "#country - success\n",
    "df_encoded_country_success = pd.get_dummies(df_encoded_country, columns=['success'])\n",
    "#df_encoded_country_success.head()\n",
    "correlation_matrix_country_success = df_encoded_country_success[['country_Austria', 'country_Germany', 'country_Switzerland','success_0','success_1']].corr()\n",
    "print(correlation_matrix_country_success)"
   ]
  },
  {
   "cell_type": "code",
   "execution_count": 24,
   "id": "66700b6a-6cb8-4029-b6fc-7890f855d376",
   "metadata": {},
   "outputs": [
    {
     "name": "stdout",
     "output_type": "stream",
     "text": [
      "                     country_Austria  country_Germany  country_Switzerland  \\\n",
      "country_Austria             1.000000        -0.602809            -0.250130   \n",
      "country_Germany            -0.602809         1.000000            -0.621742   \n",
      "country_Switzerland        -0.250130        -0.621742             1.000000   \n",
      "PSP_Goldcard               -0.008845         0.002492             0.005657   \n",
      "PSP_Moneycard               0.004670        -0.001754            -0.002456   \n",
      "PSP_Simplecard             -0.001765        -0.003135             0.005537   \n",
      "PSP_UK_Card                 0.002380         0.002791            -0.005723   \n",
      "\n",
      "                     PSP_Goldcard  PSP_Moneycard  PSP_Simplecard  PSP_UK_Card  \n",
      "country_Austria         -0.008845       0.004670       -0.001765     0.002380  \n",
      "country_Germany          0.002492      -0.001754       -0.003135     0.002791  \n",
      "country_Switzerland      0.005657      -0.002456        0.005537    -0.005723  \n",
      "PSP_Goldcard             1.000000      -0.115715       -0.149268    -0.274007  \n",
      "PSP_Moneycard           -0.115715       1.000000       -0.254145    -0.466528  \n",
      "PSP_Simplecard          -0.149268      -0.254145        1.000000    -0.601802  \n",
      "PSP_UK_Card             -0.274007      -0.466528       -0.601802     1.000000  \n"
     ]
    }
   ],
   "source": [
    "#9\n",
    "#country - PSP\n",
    "df_encoded_country_PSP = pd.get_dummies(df_encoded_country, columns=['PSP'])\n",
    "#df_encoded_country_PSP.head()\n",
    "correlation_matrix_country_PSP = df_encoded_country_PSP[['country_Austria','country_Germany', 'country_Switzerland', 'PSP_Goldcard', 'PSP_Moneycard', 'PSP_Simplecard', 'PSP_UK_Card']].corr()\n",
    "print(correlation_matrix_country_PSP)"
   ]
  },
  {
   "cell_type": "code",
   "execution_count": 25,
   "id": "cfe95434-4fc1-4235-a07f-a113b2dd4b39",
   "metadata": {},
   "outputs": [
    {
     "name": "stdout",
     "output_type": "stream",
     "text": [
      "                     country_Austria  country_Germany  country_Switzerland  \\\n",
      "country_Austria             1.000000        -0.602809            -0.250130   \n",
      "country_Germany            -0.602809         1.000000            -0.621742   \n",
      "country_Switzerland        -0.250130        -0.621742             1.000000   \n",
      "3D_secured_0               -0.009128         0.005085             0.002790   \n",
      "3D_secured_1                0.009128        -0.005085            -0.002790   \n",
      "\n",
      "                     3D_secured_0  3D_secured_1  \n",
      "country_Austria         -0.009128      0.009128  \n",
      "country_Germany          0.005085     -0.005085  \n",
      "country_Switzerland      0.002790     -0.002790  \n",
      "3D_secured_0             1.000000     -1.000000  \n",
      "3D_secured_1            -1.000000      1.000000  \n"
     ]
    }
   ],
   "source": [
    "#10\n",
    "#country - 3D_secured\n",
    "df_encoded_country_3D_secured = pd.get_dummies(df_encoded_country, columns=['3D_secured'])\n",
    "df_encoded_country_3D_secured.head()\n",
    "correlation_matrix_country_3D_secured = df_encoded_country_3D_secured[['country_Austria','country_Germany', 'country_Switzerland', '3D_secured_0', '3D_secured_1']].corr()\n",
    "print(correlation_matrix_country_3D_secured)"
   ]
  },
  {
   "cell_type": "code",
   "execution_count": 26,
   "id": "e50da1e9-4b3a-4ad7-a1de-592e7c8cb8c3",
   "metadata": {},
   "outputs": [
    {
     "name": "stdout",
     "output_type": "stream",
     "text": [
      "                     country_Austria  country_Germany  country_Switzerland  \\\n",
      "country_Austria             1.000000        -0.602809            -0.250130   \n",
      "country_Germany            -0.602809         1.000000            -0.621742   \n",
      "country_Switzerland        -0.250130        -0.621742             1.000000   \n",
      "card_Diners                 0.002594        -0.011399             0.011286   \n",
      "card_Master                 0.003990         0.002808            -0.007324   \n",
      "card_Visa                  -0.007113         0.007398            -0.001995   \n",
      "\n",
      "                     card_Diners  card_Master  card_Visa  \n",
      "country_Austria         0.002594     0.003990  -0.007113  \n",
      "country_Germany        -0.011399     0.002808   0.007398  \n",
      "country_Switzerland     0.011286    -0.007324  -0.001995  \n",
      "card_Diners             1.000000    -0.570612  -0.268623  \n",
      "card_Master            -0.570612     1.000000  -0.637756  \n",
      "card_Visa              -0.268623    -0.637756   1.000000  \n"
     ]
    }
   ],
   "source": [
    "#11\n",
    "#country - card\n",
    "df_encoded_country_card = pd.get_dummies(df_encoded_country, columns=['card'])\n",
    "df_encoded_country_card.head()\n",
    "correlation_matrix_country_card = df_encoded_country_card[['country_Austria','country_Germany', 'country_Switzerland', 'card_Diners', 'card_Master', 'card_Visa']].corr()\n",
    "print(correlation_matrix_country_card)"
   ]
  },
  {
   "cell_type": "code",
   "execution_count": 27,
   "id": "56737e31-a36c-4932-a625-a3949a1969d7",
   "metadata": {},
   "outputs": [
    {
     "name": "stdout",
     "output_type": "stream",
     "text": [
      "             amount  success_0  success_1\n",
      "amount     1.000000   0.086423  -0.086423\n",
      "success_0  0.086423   1.000000  -1.000000\n",
      "success_1 -0.086423  -1.000000   1.000000\n"
     ]
    }
   ],
   "source": [
    "#12\n",
    "#amount - success\n",
    "df_encoded_amount_success = pd.get_dummies(df_encoded_country, columns=['success'])\n",
    "df_encoded_amount_success.head()\n",
    "correlation_matrix_amount_success = df_encoded_amount_success[['amount','success_0', 'success_1']].corr()\n",
    "print(correlation_matrix_amount_success)"
   ]
  },
  {
   "cell_type": "code",
   "execution_count": 28,
   "id": "5459edc2-d59c-42a3-9590-3e876b922117",
   "metadata": {},
   "outputs": [
    {
     "name": "stdout",
     "output_type": "stream",
     "text": [
      "                  amount  PSP_Goldcard  PSP_Moneycard  PSP_Simplecard  \\\n",
      "amount          1.000000      0.002707      -0.002318       -0.006180   \n",
      "PSP_Goldcard    0.002707      1.000000      -0.115715       -0.149268   \n",
      "PSP_Moneycard  -0.002318     -0.115715       1.000000       -0.254145   \n",
      "PSP_Simplecard -0.006180     -0.149268      -0.254145        1.000000   \n",
      "PSP_UK_Card     0.005734     -0.274007      -0.466528       -0.601802   \n",
      "\n",
      "                PSP_UK_Card  \n",
      "amount             0.005734  \n",
      "PSP_Goldcard      -0.274007  \n",
      "PSP_Moneycard     -0.466528  \n",
      "PSP_Simplecard    -0.601802  \n",
      "PSP_UK_Card        1.000000  \n"
     ]
    }
   ],
   "source": [
    "#13\n",
    "#amount - PSP\n",
    "df_encoded_amount_PSP = pd.get_dummies(df_psp, columns=['PSP'])\n",
    "df_encoded_amount_PSP.head()\n",
    "correlation_matrix_amount_PSP = df_encoded_amount_PSP[['amount','PSP_Goldcard', 'PSP_Moneycard', 'PSP_Simplecard', 'PSP_UK_Card']].corr()\n",
    "print(correlation_matrix_amount_PSP)"
   ]
  },
  {
   "cell_type": "code",
   "execution_count": 29,
   "id": "9fd8a420-9292-481d-bc0f-133255f4d996",
   "metadata": {},
   "outputs": [
    {
     "name": "stdout",
     "output_type": "stream",
     "text": [
      "                amount  3D_secured_0  3D_secured_1\n",
      "amount        1.000000     -0.000178      0.000178\n",
      "3D_secured_0 -0.000178      1.000000     -1.000000\n",
      "3D_secured_1  0.000178     -1.000000      1.000000\n"
     ]
    }
   ],
   "source": [
    "#14\n",
    "#amount - 3D_secured\n",
    "df_encoded_amount_3D_secured = pd.get_dummies(df_psp, columns=['3D_secured'])\n",
    "df_encoded_amount_3D_secured.head()\n",
    "correlation_matrix_3D_secured = df_encoded_amount_3D_secured[['amount','3D_secured_0', '3D_secured_1']].corr()\n",
    "print(correlation_matrix_3D_secured)"
   ]
  },
  {
   "cell_type": "code",
   "execution_count": 30,
   "id": "f85be9c6-8977-4f1f-8b57-746d2eaeb468",
   "metadata": {},
   "outputs": [
    {
     "name": "stdout",
     "output_type": "stream",
     "text": [
      "               amount  card_Diners  card_Master  card_Visa\n",
      "amount       1.000000     0.000303    -0.002547   0.002703\n",
      "card_Diners  0.000303     1.000000    -0.570612  -0.268623\n",
      "card_Master -0.002547    -0.570612     1.000000  -0.637756\n",
      "card_Visa    0.002703    -0.268623    -0.637756   1.000000\n"
     ]
    }
   ],
   "source": [
    "#15\n",
    "#amount - card\n",
    "df_encoded_amount_card = pd.get_dummies(df_psp, columns=['card'])\n",
    "df_encoded_amount_card.head()\n",
    "correlation_matrix_amount_card = df_encoded_amount_card[['amount','card_Diners', 'card_Master', 'card_Visa']].corr()\n",
    "print(correlation_matrix_amount_card)"
   ]
  },
  {
   "cell_type": "code",
   "execution_count": 31,
   "id": "c0e1da30-146c-408a-a063-c7ecfe94df10",
   "metadata": {},
   "outputs": [
    {
     "data": {
      "text/html": [
       "<div>\n",
       "<style scoped>\n",
       "    .dataframe tbody tr th:only-of-type {\n",
       "        vertical-align: middle;\n",
       "    }\n",
       "\n",
       "    .dataframe tbody tr th {\n",
       "        vertical-align: top;\n",
       "    }\n",
       "\n",
       "    .dataframe thead th {\n",
       "        text-align: right;\n",
       "    }\n",
       "</style>\n",
       "<table border=\"1\" class=\"dataframe\">\n",
       "  <thead>\n",
       "    <tr style=\"text-align: right;\">\n",
       "      <th></th>\n",
       "      <th>Id</th>\n",
       "      <th>tmsp</th>\n",
       "      <th>country</th>\n",
       "      <th>amount</th>\n",
       "      <th>PSP</th>\n",
       "      <th>3D_secured</th>\n",
       "      <th>card</th>\n",
       "      <th>success_0</th>\n",
       "      <th>success_1</th>\n",
       "    </tr>\n",
       "  </thead>\n",
       "  <tbody>\n",
       "    <tr>\n",
       "      <th>0</th>\n",
       "      <td>0</td>\n",
       "      <td>2023-11-01 00:01:11</td>\n",
       "      <td>Germany</td>\n",
       "      <td>89</td>\n",
       "      <td>UK_Card</td>\n",
       "      <td>0</td>\n",
       "      <td>Visa</td>\n",
       "      <td>True</td>\n",
       "      <td>False</td>\n",
       "    </tr>\n",
       "    <tr>\n",
       "      <th>1</th>\n",
       "      <td>1</td>\n",
       "      <td>2023-11-01 00:01:17</td>\n",
       "      <td>Germany</td>\n",
       "      <td>89</td>\n",
       "      <td>UK_Card</td>\n",
       "      <td>0</td>\n",
       "      <td>Visa</td>\n",
       "      <td>False</td>\n",
       "      <td>True</td>\n",
       "    </tr>\n",
       "    <tr>\n",
       "      <th>2</th>\n",
       "      <td>2</td>\n",
       "      <td>2023-11-01 00:02:49</td>\n",
       "      <td>Germany</td>\n",
       "      <td>238</td>\n",
       "      <td>UK_Card</td>\n",
       "      <td>1</td>\n",
       "      <td>Diners</td>\n",
       "      <td>True</td>\n",
       "      <td>False</td>\n",
       "    </tr>\n",
       "    <tr>\n",
       "      <th>3</th>\n",
       "      <td>3</td>\n",
       "      <td>2023-11-01 00:03:13</td>\n",
       "      <td>Germany</td>\n",
       "      <td>238</td>\n",
       "      <td>UK_Card</td>\n",
       "      <td>1</td>\n",
       "      <td>Diners</td>\n",
       "      <td>False</td>\n",
       "      <td>True</td>\n",
       "    </tr>\n",
       "    <tr>\n",
       "      <th>4</th>\n",
       "      <td>4</td>\n",
       "      <td>2023-11-01 00:04:33</td>\n",
       "      <td>Austria</td>\n",
       "      <td>124</td>\n",
       "      <td>Simplecard</td>\n",
       "      <td>0</td>\n",
       "      <td>Diners</td>\n",
       "      <td>True</td>\n",
       "      <td>False</td>\n",
       "    </tr>\n",
       "    <tr>\n",
       "      <th>...</th>\n",
       "      <td>...</td>\n",
       "      <td>...</td>\n",
       "      <td>...</td>\n",
       "      <td>...</td>\n",
       "      <td>...</td>\n",
       "      <td>...</td>\n",
       "      <td>...</td>\n",
       "      <td>...</td>\n",
       "      <td>...</td>\n",
       "    </tr>\n",
       "    <tr>\n",
       "      <th>50405</th>\n",
       "      <td>50405</td>\n",
       "      <td>2023-12-28 23:45:39</td>\n",
       "      <td>Switzerland</td>\n",
       "      <td>415</td>\n",
       "      <td>UK_Card</td>\n",
       "      <td>0</td>\n",
       "      <td>Visa</td>\n",
       "      <td>True</td>\n",
       "      <td>False</td>\n",
       "    </tr>\n",
       "    <tr>\n",
       "      <th>50406</th>\n",
       "      <td>50406</td>\n",
       "      <td>2023-12-28 23:46:48</td>\n",
       "      <td>Austria</td>\n",
       "      <td>91</td>\n",
       "      <td>UK_Card</td>\n",
       "      <td>0</td>\n",
       "      <td>Master</td>\n",
       "      <td>True</td>\n",
       "      <td>False</td>\n",
       "    </tr>\n",
       "    <tr>\n",
       "      <th>50407</th>\n",
       "      <td>50407</td>\n",
       "      <td>2023-12-28 23:47:04</td>\n",
       "      <td>Austria</td>\n",
       "      <td>91</td>\n",
       "      <td>UK_Card</td>\n",
       "      <td>0</td>\n",
       "      <td>Master</td>\n",
       "      <td>True</td>\n",
       "      <td>False</td>\n",
       "    </tr>\n",
       "    <tr>\n",
       "      <th>50408</th>\n",
       "      <td>50408</td>\n",
       "      <td>2023-12-28 23:47:36</td>\n",
       "      <td>Austria</td>\n",
       "      <td>91</td>\n",
       "      <td>UK_Card</td>\n",
       "      <td>0</td>\n",
       "      <td>Master</td>\n",
       "      <td>True</td>\n",
       "      <td>False</td>\n",
       "    </tr>\n",
       "    <tr>\n",
       "      <th>50409</th>\n",
       "      <td>50409</td>\n",
       "      <td>2023-12-28 23:48:19</td>\n",
       "      <td>Austria</td>\n",
       "      <td>91</td>\n",
       "      <td>Moneycard</td>\n",
       "      <td>0</td>\n",
       "      <td>Master</td>\n",
       "      <td>False</td>\n",
       "      <td>True</td>\n",
       "    </tr>\n",
       "  </tbody>\n",
       "</table>\n",
       "<p>50410 rows × 9 columns</p>\n",
       "</div>"
      ],
      "text/plain": [
       "          Id                tmsp      country  amount         PSP  3D_secured  \\\n",
       "0          0 2023-11-01 00:01:11      Germany      89     UK_Card           0   \n",
       "1          1 2023-11-01 00:01:17      Germany      89     UK_Card           0   \n",
       "2          2 2023-11-01 00:02:49      Germany     238     UK_Card           1   \n",
       "3          3 2023-11-01 00:03:13      Germany     238     UK_Card           1   \n",
       "4          4 2023-11-01 00:04:33      Austria     124  Simplecard           0   \n",
       "...      ...                 ...          ...     ...         ...         ...   \n",
       "50405  50405 2023-12-28 23:45:39  Switzerland     415     UK_Card           0   \n",
       "50406  50406 2023-12-28 23:46:48      Austria      91     UK_Card           0   \n",
       "50407  50407 2023-12-28 23:47:04      Austria      91     UK_Card           0   \n",
       "50408  50408 2023-12-28 23:47:36      Austria      91     UK_Card           0   \n",
       "50409  50409 2023-12-28 23:48:19      Austria      91   Moneycard           0   \n",
       "\n",
       "         card  success_0  success_1  \n",
       "0        Visa       True      False  \n",
       "1        Visa      False       True  \n",
       "2      Diners       True      False  \n",
       "3      Diners      False       True  \n",
       "4      Diners       True      False  \n",
       "...       ...        ...        ...  \n",
       "50405    Visa       True      False  \n",
       "50406  Master       True      False  \n",
       "50407  Master       True      False  \n",
       "50408  Master       True      False  \n",
       "50409  Master      False       True  \n",
       "\n",
       "[50410 rows x 9 columns]"
      ]
     },
     "execution_count": 31,
     "metadata": {},
     "output_type": "execute_result"
    }
   ],
   "source": [
    "#success\n",
    "df_encoded_success = pd.get_dummies(df_psp, columns=['success'])\n",
    "df_encoded_success"
   ]
  },
  {
   "cell_type": "code",
   "execution_count": 32,
   "id": "8c2fecb9-4306-4332-a604-16a30b4142ba",
   "metadata": {},
   "outputs": [
    {
     "name": "stdout",
     "output_type": "stream",
     "text": [
      "                success_0  success_1  PSP_Goldcard  PSP_Moneycard  \\\n",
      "success_0        1.000000  -1.000000     -0.131774      -0.017502   \n",
      "success_1       -1.000000   1.000000      0.131774       0.017502   \n",
      "PSP_Goldcard    -0.131774   0.131774      1.000000      -0.115715   \n",
      "PSP_Moneycard   -0.017502   0.017502     -0.115715       1.000000   \n",
      "PSP_Simplecard   0.063746  -0.063746     -0.149268      -0.254145   \n",
      "PSP_UK_Card      0.022366  -0.022366     -0.274007      -0.466528   \n",
      "\n",
      "                PSP_Simplecard  PSP_UK_Card  \n",
      "success_0             0.063746     0.022366  \n",
      "success_1            -0.063746    -0.022366  \n",
      "PSP_Goldcard         -0.149268    -0.274007  \n",
      "PSP_Moneycard        -0.254145    -0.466528  \n",
      "PSP_Simplecard        1.000000    -0.601802  \n",
      "PSP_UK_Card          -0.601802     1.000000  \n"
     ]
    }
   ],
   "source": [
    "#16\n",
    "#success - PSP\n",
    "df_encoded_success_PSP = pd.get_dummies(df_encoded_success, columns=['PSP'])\n",
    "df_encoded_success_PSP.head()\n",
    "correlation_matrix_success_PSP = df_encoded_success_PSP[['success_0','success_1', 'PSP_Goldcard', 'PSP_Moneycard', 'PSP_Simplecard', 'PSP_UK_Card']].corr()\n",
    "print(correlation_matrix_success_PSP)"
   ]
  },
  {
   "cell_type": "code",
   "execution_count": 33,
   "id": "62ecc2b3-7a7d-4c9f-8871-2128c09451ea",
   "metadata": {},
   "outputs": [
    {
     "name": "stdout",
     "output_type": "stream",
     "text": [
      "              success_0  success_1  3D_secured_0  3D_secured_1\n",
      "success_0      1.000000  -1.000000      0.059284     -0.059284\n",
      "success_1     -1.000000   1.000000     -0.059284      0.059284\n",
      "3D_secured_0   0.059284  -0.059284      1.000000     -1.000000\n",
      "3D_secured_1  -0.059284   0.059284     -1.000000      1.000000\n"
     ]
    }
   ],
   "source": [
    "#17\n",
    "#success - 3D_secured\n",
    "df_encoded_success_3D_secured = pd.get_dummies(df_encoded_success, columns=['3D_secured'])\n",
    "df_encoded_success_3D_secured.head()\n",
    "correlation_matrix_success_3D_secured = df_encoded_success_3D_secured[['success_0','success_1', '3D_secured_0', '3D_secured_1']].corr()\n",
    "print(correlation_matrix_success_3D_secured)"
   ]
  },
  {
   "cell_type": "code",
   "execution_count": 34,
   "id": "f57c7b83-f7b0-495c-8dec-fbfb3959ca90",
   "metadata": {},
   "outputs": [
    {
     "name": "stdout",
     "output_type": "stream",
     "text": [
      "             success_0  success_1  card_Diners  card_Master  card_Visa\n",
      "success_0     1.000000  -1.000000    -0.024474     0.026086  -0.007642\n",
      "success_1    -1.000000   1.000000     0.024474    -0.026086   0.007642\n",
      "card_Diners  -0.024474   0.024474     1.000000    -0.570612  -0.268623\n",
      "card_Master   0.026086  -0.026086    -0.570612     1.000000  -0.637756\n",
      "card_Visa    -0.007642   0.007642    -0.268623    -0.637756   1.000000\n"
     ]
    }
   ],
   "source": [
    "#18\n",
    "#success - card\n",
    "df_encoded_success_card = pd.get_dummies(df_encoded_success, columns=['card'])\n",
    "df_encoded_success_card.head()\n",
    "correlation_matrix_success_card = df_encoded_success_card[['success_0','success_1','card_Diners', 'card_Master', 'card_Visa']].corr()\n",
    "print(correlation_matrix_success_card)"
   ]
  },
  {
   "cell_type": "code",
   "execution_count": 35,
   "id": "18f8bada-5da2-4e9b-ad8e-1d80fdcb8e64",
   "metadata": {},
   "outputs": [
    {
     "data": {
      "text/html": [
       "<div>\n",
       "<style scoped>\n",
       "    .dataframe tbody tr th:only-of-type {\n",
       "        vertical-align: middle;\n",
       "    }\n",
       "\n",
       "    .dataframe tbody tr th {\n",
       "        vertical-align: top;\n",
       "    }\n",
       "\n",
       "    .dataframe thead th {\n",
       "        text-align: right;\n",
       "    }\n",
       "</style>\n",
       "<table border=\"1\" class=\"dataframe\">\n",
       "  <thead>\n",
       "    <tr style=\"text-align: right;\">\n",
       "      <th></th>\n",
       "      <th>Id</th>\n",
       "      <th>tmsp</th>\n",
       "      <th>country</th>\n",
       "      <th>amount</th>\n",
       "      <th>success</th>\n",
       "      <th>3D_secured</th>\n",
       "      <th>card</th>\n",
       "      <th>PSP_Goldcard</th>\n",
       "      <th>PSP_Moneycard</th>\n",
       "      <th>PSP_Simplecard</th>\n",
       "      <th>PSP_UK_Card</th>\n",
       "    </tr>\n",
       "  </thead>\n",
       "  <tbody>\n",
       "    <tr>\n",
       "      <th>0</th>\n",
       "      <td>0</td>\n",
       "      <td>2023-11-01 00:01:11</td>\n",
       "      <td>Germany</td>\n",
       "      <td>89</td>\n",
       "      <td>0</td>\n",
       "      <td>0</td>\n",
       "      <td>Visa</td>\n",
       "      <td>False</td>\n",
       "      <td>False</td>\n",
       "      <td>False</td>\n",
       "      <td>True</td>\n",
       "    </tr>\n",
       "    <tr>\n",
       "      <th>1</th>\n",
       "      <td>1</td>\n",
       "      <td>2023-11-01 00:01:17</td>\n",
       "      <td>Germany</td>\n",
       "      <td>89</td>\n",
       "      <td>1</td>\n",
       "      <td>0</td>\n",
       "      <td>Visa</td>\n",
       "      <td>False</td>\n",
       "      <td>False</td>\n",
       "      <td>False</td>\n",
       "      <td>True</td>\n",
       "    </tr>\n",
       "    <tr>\n",
       "      <th>2</th>\n",
       "      <td>2</td>\n",
       "      <td>2023-11-01 00:02:49</td>\n",
       "      <td>Germany</td>\n",
       "      <td>238</td>\n",
       "      <td>0</td>\n",
       "      <td>1</td>\n",
       "      <td>Diners</td>\n",
       "      <td>False</td>\n",
       "      <td>False</td>\n",
       "      <td>False</td>\n",
       "      <td>True</td>\n",
       "    </tr>\n",
       "    <tr>\n",
       "      <th>3</th>\n",
       "      <td>3</td>\n",
       "      <td>2023-11-01 00:03:13</td>\n",
       "      <td>Germany</td>\n",
       "      <td>238</td>\n",
       "      <td>1</td>\n",
       "      <td>1</td>\n",
       "      <td>Diners</td>\n",
       "      <td>False</td>\n",
       "      <td>False</td>\n",
       "      <td>False</td>\n",
       "      <td>True</td>\n",
       "    </tr>\n",
       "    <tr>\n",
       "      <th>4</th>\n",
       "      <td>4</td>\n",
       "      <td>2023-11-01 00:04:33</td>\n",
       "      <td>Austria</td>\n",
       "      <td>124</td>\n",
       "      <td>0</td>\n",
       "      <td>0</td>\n",
       "      <td>Diners</td>\n",
       "      <td>False</td>\n",
       "      <td>False</td>\n",
       "      <td>True</td>\n",
       "      <td>False</td>\n",
       "    </tr>\n",
       "  </tbody>\n",
       "</table>\n",
       "</div>"
      ],
      "text/plain": [
       "   Id                tmsp  country  amount  success  3D_secured    card  \\\n",
       "0   0 2023-11-01 00:01:11  Germany      89        0           0    Visa   \n",
       "1   1 2023-11-01 00:01:17  Germany      89        1           0    Visa   \n",
       "2   2 2023-11-01 00:02:49  Germany     238        0           1  Diners   \n",
       "3   3 2023-11-01 00:03:13  Germany     238        1           1  Diners   \n",
       "4   4 2023-11-01 00:04:33  Austria     124        0           0  Diners   \n",
       "\n",
       "   PSP_Goldcard  PSP_Moneycard  PSP_Simplecard  PSP_UK_Card  \n",
       "0         False          False           False         True  \n",
       "1         False          False           False         True  \n",
       "2         False          False           False         True  \n",
       "3         False          False           False         True  \n",
       "4         False          False            True        False  "
      ]
     },
     "execution_count": 35,
     "metadata": {},
     "output_type": "execute_result"
    }
   ],
   "source": [
    "#PSP\n",
    "df_encoded_PSP = pd.get_dummies(df_psp, columns=['PSP'])\n",
    "df_encoded_PSP.head()"
   ]
  },
  {
   "cell_type": "code",
   "execution_count": 36,
   "id": "22ba725f-748f-4958-b2b8-f90e5874a290",
   "metadata": {},
   "outputs": [
    {
     "name": "stdout",
     "output_type": "stream",
     "text": [
      "                PSP_Goldcard  PSP_Moneycard  PSP_Simplecard  PSP_UK_Card  \\\n",
      "PSP_Goldcard        1.000000      -0.115715       -0.149268    -0.274007   \n",
      "PSP_Moneycard      -0.115715       1.000000       -0.254145    -0.466528   \n",
      "PSP_Simplecard     -0.149268      -0.254145        1.000000    -0.601802   \n",
      "PSP_UK_Card        -0.274007      -0.466528       -0.601802     1.000000   \n",
      "3D_secured_0       -0.003174      -0.001897       -0.000274     0.003197   \n",
      "3D_secured_1        0.003174       0.001897        0.000274    -0.003197   \n",
      "\n",
      "                3D_secured_0  3D_secured_1  \n",
      "PSP_Goldcard       -0.003174      0.003174  \n",
      "PSP_Moneycard      -0.001897      0.001897  \n",
      "PSP_Simplecard     -0.000274      0.000274  \n",
      "PSP_UK_Card         0.003197     -0.003197  \n",
      "3D_secured_0        1.000000     -1.000000  \n",
      "3D_secured_1       -1.000000      1.000000  \n"
     ]
    }
   ],
   "source": [
    "#19\n",
    "#PSP - 3D_secured\n",
    "df_encoded_PSP_3D_secured = pd.get_dummies(df_encoded_PSP, columns=['3D_secured'])\n",
    "df_encoded_PSP_3D_secured.head()\n",
    "correlation__PSP_3D_secured = df_encoded_PSP_3D_secured[['PSP_Goldcard','PSP_Moneycard', 'PSP_Simplecard', 'PSP_UK_Card', '3D_secured_0', '3D_secured_1']].corr()\n",
    "print(correlation__PSP_3D_secured)"
   ]
  },
  {
   "cell_type": "code",
   "execution_count": 37,
   "id": "1ff81ed7-02f1-4588-9071-d5a9b36fb40e",
   "metadata": {},
   "outputs": [
    {
     "data": {
      "text/plain": [
       "-0.1157149399781102"
      ]
     },
     "execution_count": 37,
     "metadata": {},
     "output_type": "execute_result"
    }
   ],
   "source": [
    "df_encoded_PSP_3D_secured['PSP_Goldcard'].corr(df_encoded_PSP_3D_secured['PSP_Moneycard'], method='kendall')"
   ]
  },
  {
   "cell_type": "code",
   "execution_count": 38,
   "id": "596b0ded-be1b-4cf6-aea5-67806d890c67",
   "metadata": {
    "scrolled": true
   },
   "outputs": [
    {
     "data": {
      "text/plain": [
       "-0.11571493997811"
      ]
     },
     "execution_count": 38,
     "metadata": {},
     "output_type": "execute_result"
    }
   ],
   "source": [
    "df_encoded_PSP_3D_secured['PSP_Goldcard'].corr(df_encoded_PSP_3D_secured['PSP_Moneycard'])"
   ]
  },
  {
   "cell_type": "code",
   "execution_count": 39,
   "id": "92fffd76-140e-4560-9cff-3837615323fe",
   "metadata": {},
   "outputs": [
    {
     "name": "stdout",
     "output_type": "stream",
     "text": [
      "                PSP_Goldcard  PSP_Moneycard  PSP_Simplecard  PSP_UK_Card  \\\n",
      "PSP_Goldcard        1.000000      -0.115715       -0.149268    -0.274007   \n",
      "PSP_Moneycard      -0.115715       1.000000       -0.254145    -0.466528   \n",
      "PSP_Simplecard     -0.149268      -0.254145        1.000000    -0.601802   \n",
      "PSP_UK_Card        -0.274007      -0.466528       -0.601802     1.000000   \n",
      "card_Diners         0.009948       0.008024       -0.006480    -0.005225   \n",
      "card_Master        -0.013586      -0.000914        0.007868     0.000526   \n",
      "card_Visa           0.006605      -0.006453       -0.003151     0.004284   \n",
      "\n",
      "                card_Diners  card_Master  card_Visa  \n",
      "PSP_Goldcard       0.009948    -0.013586   0.006605  \n",
      "PSP_Moneycard      0.008024    -0.000914  -0.006453  \n",
      "PSP_Simplecard    -0.006480     0.007868  -0.003151  \n",
      "PSP_UK_Card       -0.005225     0.000526   0.004284  \n",
      "card_Diners        1.000000    -0.570612  -0.268623  \n",
      "card_Master       -0.570612     1.000000  -0.637756  \n",
      "card_Visa         -0.268623    -0.637756   1.000000  \n"
     ]
    }
   ],
   "source": [
    "#20\n",
    "#PSP - card\n",
    "df_encoded_PSP_card = pd.get_dummies(df_encoded_PSP, columns=['card'])\n",
    "df_encoded_PSP_card.head()\n",
    "correlation_PSP_card = df_encoded_PSP_card[['PSP_Goldcard','PSP_Moneycard', 'PSP_Simplecard', 'PSP_UK_Card', 'card_Diners', 'card_Master', 'card_Visa']].corr()\n",
    "print(correlation_PSP_card)"
   ]
  },
  {
   "cell_type": "code",
   "execution_count": 40,
   "id": "8c40a388-3eb7-4e33-bfbb-2c2fc2b2bf77",
   "metadata": {},
   "outputs": [
    {
     "name": "stdout",
     "output_type": "stream",
     "text": [
      "              3D_secured_0  3D_secured_1  card_Diners  card_Master  card_Visa\n",
      "3D_secured_0      1.000000     -1.000000    -0.010322    -0.001018   0.010875\n",
      "3D_secured_1     -1.000000      1.000000     0.010322     0.001018  -0.010875\n",
      "card_Diners      -0.010322      0.010322     1.000000    -0.570612  -0.268623\n",
      "card_Master      -0.001018      0.001018    -0.570612     1.000000  -0.637756\n",
      "card_Visa         0.010875     -0.010875    -0.268623    -0.637756   1.000000\n"
     ]
    }
   ],
   "source": [
    "#21\n",
    "#3D_secured - card\n",
    "df_encoded_3D_secured = pd.get_dummies(df_psp, columns=['3D_secured'])\n",
    "df_encoded_3D_secured_card = pd.get_dummies(df_encoded_3D_secured, columns=['card'])\n",
    "df_encoded_3D_secured_card.head()\n",
    "correlation_3D_secured_card = df_encoded_3D_secured_card[['3D_secured_0','3D_secured_1', 'card_Diners', 'card_Master', 'card_Visa']].corr()\n",
    "print(correlation_3D_secured_card)"
   ]
  },
  {
   "cell_type": "code",
   "execution_count": 41,
   "id": "56caa09d-cf57-413f-b03d-6575b8a6197c",
   "metadata": {},
   "outputs": [
    {
     "name": "stdout",
     "output_type": "stream",
     "text": [
      "              3D_secured_0  3D_secured_1  card_Diners  card_Master  card_Visa\n",
      "3D_secured_0      1.000000     -1.000000    -0.010322    -0.001018   0.010875\n",
      "3D_secured_1     -1.000000      1.000000     0.010322     0.001018  -0.010875\n",
      "card_Diners      -0.010322      0.010322     1.000000    -0.570612  -0.268623\n",
      "card_Master      -0.001018      0.001018    -0.570612     1.000000  -0.637756\n",
      "card_Visa         0.010875     -0.010875    -0.268623    -0.637756   1.000000\n"
     ]
    }
   ],
   "source": [
    "#21\n",
    "#3D_secured - card\n",
    "df_encoded_3D_secured = pd.get_dummies(df_psp, columns=['3D_secured'])\n",
    "df_encoded_3D_secured_card = pd.get_dummies(df_encoded_3D_secured, columns=['card'])\n",
    "df_encoded_3D_secured_card.head()\n",
    "correlation_3D_secured_card = df_encoded_3D_secured_card[['3D_secured_0','3D_secured_1', 'card_Diners', 'card_Master', 'card_Visa']].corr(method='kendall')\n",
    "print(correlation_3D_secured_card)"
   ]
  }
 ],
 "metadata": {
  "kernelspec": {
   "display_name": "Python 3 (ipykernel)",
   "language": "python",
   "name": "python3"
  },
  "language_info": {
   "codemirror_mode": {
    "name": "ipython",
    "version": 3
   },
   "file_extension": ".py",
   "mimetype": "text/x-python",
   "name": "python",
   "nbconvert_exporter": "python",
   "pygments_lexer": "ipython3",
   "version": "3.11.4"
  }
 },
 "nbformat": 4,
 "nbformat_minor": 5
}
