{
 "cells": [
  {
   "cell_type": "code",
   "execution_count": 16,
   "id": "8b6e6aaa-6173-4674-94c8-627e1d731f8d",
   "metadata": {},
   "outputs": [],
   "source": [
    "import pandas as pd\n",
    "import plotly.express as px\n",
    "from datetime import timedelta\n",
    "import plotly.graph_objects as go\n",
    "from pyod.models.knn import KNN\n",
    "from pyod.models.ecod import ECOD\n",
    "from scipy.stats import chi2_contingency\n"
   ]
  },
  {
   "cell_type": "markdown",
   "id": "d77dba74-9f99-47e1-afe6-ca4cc04e2a96",
   "metadata": {},
   "source": [
    "#### Importieren der Datei"
   ]
  },
  {
   "cell_type": "code",
   "execution_count": 3,
   "id": "6bd33752-4e38-4a99-bdf6-e063e65dd376",
   "metadata": {
    "scrolled": true
   },
   "outputs": [
    {
     "data": {
      "text/html": [
       "<div>\n",
       "<style scoped>\n",
       "    .dataframe tbody tr th:only-of-type {\n",
       "        vertical-align: middle;\n",
       "    }\n",
       "\n",
       "    .dataframe tbody tr th {\n",
       "        vertical-align: top;\n",
       "    }\n",
       "\n",
       "    .dataframe thead th {\n",
       "        text-align: right;\n",
       "    }\n",
       "</style>\n",
       "<table border=\"1\" class=\"dataframe\">\n",
       "  <thead>\n",
       "    <tr style=\"text-align: right;\">\n",
       "      <th></th>\n",
       "      <th>Id</th>\n",
       "      <th>tmsp</th>\n",
       "      <th>country</th>\n",
       "      <th>amount</th>\n",
       "      <th>success</th>\n",
       "      <th>PSP</th>\n",
       "      <th>3D_secured</th>\n",
       "      <th>card</th>\n",
       "    </tr>\n",
       "  </thead>\n",
       "  <tbody>\n",
       "    <tr>\n",
       "      <th>0</th>\n",
       "      <td>0</td>\n",
       "      <td>2019-01-01 00:01:11</td>\n",
       "      <td>Germany</td>\n",
       "      <td>89</td>\n",
       "      <td>0</td>\n",
       "      <td>UK_Card</td>\n",
       "      <td>0</td>\n",
       "      <td>Visa</td>\n",
       "    </tr>\n",
       "    <tr>\n",
       "      <th>1</th>\n",
       "      <td>1</td>\n",
       "      <td>2019-01-01 00:01:17</td>\n",
       "      <td>Germany</td>\n",
       "      <td>89</td>\n",
       "      <td>1</td>\n",
       "      <td>UK_Card</td>\n",
       "      <td>0</td>\n",
       "      <td>Visa</td>\n",
       "    </tr>\n",
       "    <tr>\n",
       "      <th>2</th>\n",
       "      <td>2</td>\n",
       "      <td>2019-01-01 00:02:49</td>\n",
       "      <td>Germany</td>\n",
       "      <td>238</td>\n",
       "      <td>0</td>\n",
       "      <td>UK_Card</td>\n",
       "      <td>1</td>\n",
       "      <td>Diners</td>\n",
       "    </tr>\n",
       "    <tr>\n",
       "      <th>3</th>\n",
       "      <td>3</td>\n",
       "      <td>2019-01-01 00:03:13</td>\n",
       "      <td>Germany</td>\n",
       "      <td>238</td>\n",
       "      <td>1</td>\n",
       "      <td>UK_Card</td>\n",
       "      <td>1</td>\n",
       "      <td>Diners</td>\n",
       "    </tr>\n",
       "    <tr>\n",
       "      <th>4</th>\n",
       "      <td>4</td>\n",
       "      <td>2019-01-01 00:04:33</td>\n",
       "      <td>Austria</td>\n",
       "      <td>124</td>\n",
       "      <td>0</td>\n",
       "      <td>Simplecard</td>\n",
       "      <td>0</td>\n",
       "      <td>Diners</td>\n",
       "    </tr>\n",
       "  </tbody>\n",
       "</table>\n",
       "</div>"
      ],
      "text/plain": [
       "   Id                tmsp  country  amount  success         PSP  3D_secured  \\\n",
       "0   0 2019-01-01 00:01:11  Germany      89        0     UK_Card           0   \n",
       "1   1 2019-01-01 00:01:17  Germany      89        1     UK_Card           0   \n",
       "2   2 2019-01-01 00:02:49  Germany     238        0     UK_Card           1   \n",
       "3   3 2019-01-01 00:03:13  Germany     238        1     UK_Card           1   \n",
       "4   4 2019-01-01 00:04:33  Austria     124        0  Simplecard           0   \n",
       "\n",
       "     card  \n",
       "0    Visa  \n",
       "1    Visa  \n",
       "2  Diners  \n",
       "3  Diners  \n",
       "4  Diners  "
      ]
     },
     "execution_count": 3,
     "metadata": {},
     "output_type": "execute_result"
    }
   ],
   "source": [
    "# Laden der Excel-Datei in ein Pandas Dataframe\n",
    "df_psp = pd.read_excel('C:/Users/Ibrom/Studium/DLMDWME01/PSP_Jan_Feb_2019.xlsx', sheet_name='Sheet1')\n",
    "\n",
    "# Umbenennen der ersten Spalte in 'Id'\n",
    "df_psp = df_psp.rename(columns={df_psp.columns[0]: 'Id'})\n",
    "\n",
    "df_psp.head()"
   ]
  },
  {
   "cell_type": "code",
   "execution_count": null,
   "id": "aae45698-78ca-46ba-b437-e841b417705c",
   "metadata": {},
   "outputs": [],
   "source": [
    "# Add 57 month to transfer date from Jan-Feb 2019 to Okt-Nov 2023\n",
    "df_psp.tmsp = df_psp.tmsp + pd.DateOffset(months=57)"
   ]
  },
  {
   "cell_type": "markdown",
   "id": "0406a0a2-2f54-4a92-826e-f4ce613ddd48",
   "metadata": {},
   "source": [
    "#### Allgemeine Informationen zum Datensatz"
   ]
  },
  {
   "cell_type": "code",
   "execution_count": null,
   "id": "31f95268-727b-4b89-b8a8-61b104ad9cf6",
   "metadata": {},
   "outputs": [],
   "source": [
    "# Anzahl der Spalten\n",
    "num_cols = len(df_psp.columns)\n",
    "print(f\"Die Anzahl der Spalten ist: {num_cols}\")"
   ]
  },
  {
   "cell_type": "code",
   "execution_count": null,
   "id": "99270423-c7ce-47dd-a26b-83859ce77be7",
   "metadata": {},
   "outputs": [],
   "source": [
    "# Namen der Spalten\n",
    "col_names = df_psp.columns.tolist()\n",
    "print(f\"Die Namen der Spalten sind: {col_names}\")"
   ]
  },
  {
   "cell_type": "code",
   "execution_count": null,
   "id": "085c5561-58b6-4df9-b400-7d3ba74c9b15",
   "metadata": {},
   "outputs": [],
   "source": [
    "# Datentypen der Spalten\n",
    "col_types = df_psp.dtypes\n",
    "print(f\"Die Datentypen der Spalten sind: \\n {col_types}\")"
   ]
  },
  {
   "cell_type": "code",
   "execution_count": null,
   "id": "e228876c-eb8a-4177-94a5-e388587def68",
   "metadata": {},
   "outputs": [],
   "source": [
    "# Mindest und Maximalwert der Spalten mit dem Namen \n",
    "# (angenommen, es bezieht sich auf die numerischen Spalten)\n",
    "min_max_values = df_psp.describe().loc[['min','max']]\n",
    "print(f\"Mindest- und Maximalwerte der numerischen Spalten sind: \\n {min_max_values}\")"
   ]
  },
  {
   "cell_type": "code",
   "execution_count": null,
   "id": "5fec6c24-c808-4480-a2f2-7cb83c2b9d48",
   "metadata": {},
   "outputs": [],
   "source": [
    "# Anzahl der Zeilen\n",
    "num_rows = len(df_psp)\n",
    "print(f\"Die Anzahl der Zeilen ist: {num_rows}\")"
   ]
  },
  {
   "cell_type": "code",
   "execution_count": null,
   "id": "ca0dc712-7ea1-4e99-a304-e118b8a3631b",
   "metadata": {},
   "outputs": [],
   "source": []
  },
  {
   "cell_type": "raw",
   "id": "1253c7d1-9c65-4213-b993-7a281b2c2d1b",
   "metadata": {},
   "source": [
    "#########################################"
   ]
  },
  {
   "cell_type": "markdown",
   "id": "5f666115-12ec-422e-aa69-70c7fc9feced",
   "metadata": {},
   "source": [
    "#### Untersuchen des Merkmals \"tmsp\""
   ]
  },
  {
   "cell_type": "code",
   "execution_count": null,
   "id": "69f80d70-59e7-40ca-9ab9-bfebeb2be19e",
   "metadata": {},
   "outputs": [],
   "source": [
    "# Erstellen Sie eine Kopie von df_psp und konvertieren Sie die 'tmsp' Spalte zu datetime\n",
    "df_psp_tmsp_date = df_psp.copy()\n",
    "df_psp_tmsp_date['tmsp'] = pd.to_datetime(df_psp_tmsp_date['tmsp'])"
   ]
  },
  {
   "cell_type": "code",
   "execution_count": null,
   "id": "9965ea1c-97c5-4237-8511-bc0f5464fbe7",
   "metadata": {},
   "outputs": [],
   "source": [
    "# Erstelle einen neuen DataFrame für 'tmsp'\n",
    "df_tmsp = df_psp_tmsp_date.groupby('tmsp')['Id'].nunique().reset_index()\n",
    "df_tmsp.columns = ['tmsp', 'count']\n",
    "\n",
    "# Erstelle das Balkendiagramm\n",
    "fig = px.bar(df_tmsp, x=\"tmsp\", y=\"count\", title=\"Balkendiagramm für 'tmsp'\")\n",
    "fig.show()"
   ]
  },
  {
   "cell_type": "code",
   "execution_count": null,
   "id": "add166ae-6bb9-4a30-bfbc-b7bc1b269282",
   "metadata": {},
   "outputs": [],
   "source": [
    "# Konvertieren Sie die 'tmsp' Spalte zu datetime, falls noch nicht geschehen\n",
    "df_psp['tmsp'] = pd.to_datetime(df_psp['tmsp'])\n",
    "\n",
    "# Erstellen Sie einen vollständigen Datumsbereich für den gegebenen Zeitraum\n",
    "date_range = pd.date_range(start='2023-10-01', end='2023-11-28')\n",
    "\n",
    "# Finden Sie die fehlenden Daten heraus\n",
    "missing_dates = date_range.difference(df_psp['tmsp'].dt.normalize()).tolist()\n",
    "\n",
    "print(\"Fehlende Daten:\", missing_dates)"
   ]
  },
  {
   "cell_type": "code",
   "execution_count": null,
   "id": "acd15685-11f0-4858-b4be-85090a71d8a4",
   "metadata": {
    "scrolled": true
   },
   "outputs": [],
   "source": [
    "\n",
    "# Stelle sicher, dass 'tmsp' eine datetime Spalte ist\n",
    "df_psp['tmsp'] = pd.to_datetime(df_psp['tmsp'])\n",
    "\n",
    "# Sortiere df_psp nach 'tmsp'\n",
    "df_psp_sorted = df_psp.sort_values(by='tmsp')\n",
    "\n",
    "# Berechne den zeitlichen Abstand zwischen aufeinanderfolgenden Einträgen\n",
    "df_psp_sorted['time_diff'] = df_psp_sorted['tmsp'].diff().dt.total_seconds()\n",
    "\n",
    "# Entferne NaN-Werte und konvertiere den Abstand in Sekunden zu einem timedelta\n",
    "df_psp_sorted['time_diff_timedelta'] = df_psp_sorted['time_diff'].dropna().apply(lambda x: timedelta(seconds=int(x)))\n",
    "\n",
    "# Entferne die erste Zeile, die NaN-Werte enthält\n",
    "df_psp_sorted = df_psp_sorted.iloc[1:, :]\n",
    "\n",
    "# Erstelle ein neues DataFrame mit den gewünschten Spalten\n",
    "df_time_diffs = pd.DataFrame({\n",
    "    \"Erste Zeile\": df_psp_sorted.index[:-1],\n",
    "    \"Zweite Zeile\": df_psp_sorted.index[1:],\n",
    "    \"tmsp erste Zeile\": df_psp_sorted['tmsp'].values[:-1],\n",
    "    \"tmsp zweite Zeile\": df_psp_sorted['tmsp'].values[1:],\n",
    "    \"Abstand [Sekunden]\": df_psp_sorted['time_diff'].values[1:],\n",
    "    \"Abstand [Time]\": df_psp_sorted['time_diff_timedelta'].values[1:]\n",
    "})\n",
    "\n",
    "# Sortiere nach \"Abstand [Sekunden]\" absteigend\n",
    "df_time_diffs = df_time_diffs.sort_values(by=\"Abstand [Sekunden]\", ascending=False)\n",
    "\n",
    "df_time_diffs.head(5)"
   ]
  },
  {
   "cell_type": "code",
   "execution_count": null,
   "id": "dd525697-dd13-4595-85cb-47dd15df03eb",
   "metadata": {},
   "outputs": [],
   "source": [
    "# Berechne den Mittelwert\n",
    "mean = df_time_diffs['Abstand [Sekunden]'].mean()\n",
    "\n",
    "# Berechne die Standardabweichung\n",
    "std_dev = df_time_diffs['Abstand [Sekunden]'].std()\n",
    "\n",
    "# Berechne die Varianz\n",
    "variance = df_time_diffs['Abstand [Sekunden]'].var()\n",
    "\n",
    "print(f\"Mittelwert: {mean}, Standardabweichung: {std_dev}, Varianz: {variance}\")"
   ]
  },
  {
   "cell_type": "raw",
   "id": "68e567ee-483e-4991-ae06-a1e613535050",
   "metadata": {},
   "source": [
    "#########################################"
   ]
  },
  {
   "cell_type": "markdown",
   "id": "673e4964-31e2-4ee5-90d8-68fa4a93da02",
   "metadata": {},
   "source": [
    "#### Untersuchen des Merkmals \"country\""
   ]
  },
  {
   "cell_type": "code",
   "execution_count": null,
   "id": "d2cdfc2a-4143-4175-9f0e-cb8d37b0fe96",
   "metadata": {},
   "outputs": [],
   "source": [
    "# Einzigartige Werte in 'country'\n",
    "unique_countries = df_psp['country'].unique()\n",
    "\n",
    "print(\"Einzigartige Länder:\", unique_countries)"
   ]
  },
  {
   "cell_type": "code",
   "execution_count": null,
   "id": "d1c128b0-a9de-4377-8005-49edbc3da421",
   "metadata": {},
   "outputs": [],
   "source": [
    "# Erstelle einen neuen DataFrame für 'country'\n",
    "df_country = df_psp_tmsp_date.groupby('country')['Id'].nunique().reset_index()\n",
    "df_country.columns = ['country', 'count']\n",
    "\n",
    "# Erstelle das Balkendiagramm\n",
    "fig = px.bar(df_country, x=\"country\", y=\"count\", title=\"Balkendiagramm für 'country'\")\n",
    "fig.show()"
   ]
  },
  {
   "cell_type": "code",
   "execution_count": null,
   "id": "8c6c1706-d0bd-41f1-a56f-177d9410e89d",
   "metadata": {},
   "outputs": [],
   "source": [
    "# Erstellen Sie eine Kopie von df_psp und konvertieren Sie die 'tmsp' Spalte zu datetime\n",
    "df_psp_time = df_psp.copy()\n",
    "df_psp_time['tmsp'] = pd.to_datetime(df_psp_time['tmsp'])\n",
    "\n",
    "# Abrunden der 'tmsp' Werte auf die nächstgelegenen 15-Minuten-Intervalle\n",
    "df_psp_time['time'] = df_psp_time['tmsp'].dt.round('15min').dt.time\n",
    "\n",
    "# Ändern Sie 'success' in einen kategorischen Typ\n",
    "df_psp_time['country'] = df_psp_time['country'].astype('category')\n",
    "\n",
    "# Gruppieren Sie nach 'time' und 'success', und zählen Sie die einzigartige Anzahl von 'Id'\n",
    "df_grouped = df_psp_time.groupby(['time', 'country'])['Id'].nunique().reset_index()\n",
    "df_grouped.columns = ['time', 'country', 'count']\n",
    "\n",
    "# Erstellen Sie das Balkendiagramm\n",
    "fig = px.bar(df_grouped, x='time', y='count', color='country', title=\"Balkendiagramm für 'country'\")\n",
    "fig.update_layout(barmode='group')\n",
    "fig.show()"
   ]
  },
  {
   "cell_type": "raw",
   "id": "4202dd0b-88e6-4ece-a02c-44fd050dd005",
   "metadata": {},
   "source": [
    "#########################################"
   ]
  },
  {
   "cell_type": "markdown",
   "id": "4de507a7-91c3-4c9d-88a8-9ba63d588b55",
   "metadata": {},
   "source": [
    "#### Untersuchen des Merkmals \"amount\""
   ]
  },
  {
   "cell_type": "code",
   "execution_count": null,
   "id": "778a1974-3e71-406f-a7f0-d0682b6234a0",
   "metadata": {},
   "outputs": [],
   "source": [
    "# Erstelle einen neuen DataFrame für 'amount'\n",
    "df_amount = df_psp_tmsp_date.groupby('amount')['Id'].nunique().reset_index()\n",
    "df_amount.columns = ['amount', 'count']\n",
    "\n",
    "# Erstelle das Balkendiagramm\n",
    "fig = px.bar(df_amount, x=\"amount\", y=\"count\", title=\"Balkendiagramm für 'amount'\")\n",
    "fig.show()"
   ]
  },
  {
   "cell_type": "markdown",
   "id": "f2b4971e-5879-43ec-9348-5d161f2f180f",
   "metadata": {},
   "source": [
    "#### Untersuchen des Merkmals \"success\""
   ]
  },
  {
   "cell_type": "code",
   "execution_count": null,
   "id": "17ec35f9-746f-4e6c-b7ef-3c901e367511",
   "metadata": {
    "scrolled": true
   },
   "outputs": [],
   "source": [
    "# Erstelle einen neuen DataFrame für 'success'\n",
    "df_success = df_psp_tmsp_date.groupby('success')['Id'].nunique().reset_index()\n",
    "df_success.columns = ['success', 'count']\n",
    "\n",
    "# Erstelle das Balkendiagramm\n",
    "fig = px.bar(df_success, x=\"success\", y=\"count\", title=\"Balkendiagramm für 'success'\")\n",
    "fig.show()"
   ]
  },
  {
   "cell_type": "code",
   "execution_count": null,
   "id": "e0a3a062-fdc4-4abc-87e9-d1297cc74657",
   "metadata": {},
   "outputs": [],
   "source": [
    "# Erstellen Sie eine Kopie von df_psp und konvertieren Sie die 'tmsp' Spalte zu datetime\n",
    "df_psp_time = df_psp.copy()\n",
    "df_psp_time['tmsp'] = pd.to_datetime(df_psp_time['tmsp'])\n",
    "\n",
    "# Abrunden der 'tmsp' Werte auf die nächstgelegenen 15-Minuten-Intervalle\n",
    "df_psp_time['time'] = df_psp_time['tmsp'].dt.round('15min').dt.time\n",
    "\n",
    "# Ändern Sie 'success' in einen kategorischen Typ\n",
    "df_psp_time['success'] = df_psp_time['success'].astype('category')\n",
    "\n",
    "# Gruppieren Sie nach 'time' und 'success', und zählen Sie die einzigartige Anzahl von 'Id'\n",
    "df_grouped = df_psp_time.groupby(['time', 'success'])['Id'].nunique().reset_index()\n",
    "df_grouped.columns = ['time', 'success', 'count']\n",
    "\n",
    "# Erstellen Sie das Balkendiagramm\n",
    "fig = px.bar(df_grouped, x='time', y='count', color='success', title=\"Balkendiagramm für 'success'\")\n",
    "fig.update_layout(barmode='group')\n",
    "fig.show()"
   ]
  },
  {
   "cell_type": "code",
   "execution_count": null,
   "id": "96644cae-deff-4066-8f99-87bbf1d101e4",
   "metadata": {
    "scrolled": true
   },
   "outputs": [],
   "source": [
    "# Erstellen Sie eine Kopie von df_psp und konvertieren Sie die 'tmsp' Spalte zu datetime\n",
    "df_psp_time = df_psp.copy()\n",
    "df_psp_time['tmsp'] = pd.to_datetime(df_psp_time['tmsp'])\n",
    "\n",
    "# Abrunden der 'tmsp' Werte auf die nächstgelegenen 15-Minuten-Intervalle\n",
    "df_psp_time['time'] = df_psp_time['tmsp'].dt.round('15min').dt.time\n",
    "\n",
    "# Ändern Sie 'success' in einen kategorischen Typ\n",
    "df_psp_time['success'] = df_psp_time['success'].astype('category')\n",
    "\n",
    "countries = [\"Germany\", \"Austria\", \"Switzerland\"]\n",
    "\n",
    "for country in countries:\n",
    "    # Filtern Sie den DataFrame nach dem Land\n",
    "    df_country = df_psp_time[df_psp_time['country'] == country]\n",
    "\n",
    "    # Gruppieren Sie nach 'time' und 'success', und zählen Sie die einzigartige Anzahl von 'Id'\n",
    "    df_grouped = df_country.groupby(['time', 'success'])['Id'].nunique().reset_index()\n",
    "    df_grouped.columns = ['time', 'success', 'count']\n",
    "\n",
    "    # Erstellen Sie das Balkendiagramm\n",
    "    fig = px.bar(df_grouped, x='time', y='count', color='success', title=f\"Balkendiagramm für 'success' in {country}\")\n",
    "    fig.update_layout(barmode='group')\n",
    "    fig.show()"
   ]
  },
  {
   "cell_type": "code",
   "execution_count": null,
   "id": "d425b34c-2de4-440b-98e9-ab81008464b7",
   "metadata": {},
   "outputs": [],
   "source": [
    "# Erstellen Sie eine Kopie von df_psp und konvertieren Sie die 'tmsp' Spalte zu datetime\n",
    "df_psp_time = df_psp.copy()\n",
    "df_psp_time['tmsp'] = pd.to_datetime(df_psp_time['tmsp'])\n",
    "\n",
    "# Abrunden der 'tmsp' Werte auf die nächstgelegenen 15-Minuten-Intervalle\n",
    "df_psp_time['time'] = df_psp_time['tmsp'].dt.round('15min').dt.time\n",
    "\n",
    "# Ändern Sie 'success' in einen kategorischen Typ\n",
    "df_psp_time['success'] = df_psp_time['success'].astype('category')\n",
    "\n",
    "PSPs = [\"UK_Card\", \"Simplecard\", \"Moneycard\", \"Goldcard\"]\n",
    "\n",
    "for PSP in PSPs:\n",
    "    # Filtern Sie den DataFrame nach dem Land\n",
    "    df_PSP = df_psp_time[df_psp_time['PSP'] == PSP]\n",
    "\n",
    "    # Gruppieren Sie nach 'time' und 'success', und zählen Sie die einzigartige Anzahl von 'Id'\n",
    "    df_grouped = df_PSP.groupby(['time', 'success'])['Id'].nunique().reset_index()\n",
    "    df_grouped.columns = ['time', 'success', 'count']\n",
    "\n",
    "    # Erstellen Sie das Balkendiagramm\n",
    "    fig = px.bar(df_grouped, x='time', y='count', color='success', title=f\"Balkendiagramm für 'success' in {PSP}\")\n",
    "    fig.update_layout(barmode='group')\n",
    "    fig.show()"
   ]
  },
  {
   "cell_type": "raw",
   "id": "3e6b704c-33d7-43a9-97fd-f8afdbb46a5a",
   "metadata": {},
   "source": [
    "#########################################"
   ]
  },
  {
   "cell_type": "markdown",
   "id": "f392ef24-9d88-425a-8e2f-4222a901ccb9",
   "metadata": {},
   "source": [
    "#### Untersuchen des Merkmals \"PSP\""
   ]
  },
  {
   "cell_type": "code",
   "execution_count": null,
   "id": "436105db-4f51-4a0a-a1ee-bc52f4cd2ae8",
   "metadata": {},
   "outputs": [],
   "source": [
    "# Einzigartige Werte in 'country'\n",
    "unique_PSP = df_psp['PSP'].unique()\n",
    "\n",
    "print(\"Einzigartige PSP:\", unique_PSP)"
   ]
  },
  {
   "cell_type": "code",
   "execution_count": null,
   "id": "354b2dd2-028a-47bc-9f18-8ef0e28dd7b5",
   "metadata": {},
   "outputs": [],
   "source": [
    "# Erstelle einen neuen DataFrame für 'PSP'\n",
    "df_PSP = df_psp_tmsp_date.groupby('PSP')['Id'].nunique().reset_index()\n",
    "df_PSP.columns = ['PSP', 'count']\n",
    "\n",
    "# Erstelle das Balkendiagramm\n",
    "fig = px.bar(df_PSP, x=\"PSP\", y=\"count\", title=\"Balkendiagramm für 'PSP'\")\n",
    "fig.show()"
   ]
  },
  {
   "cell_type": "raw",
   "id": "8a38b0eb-73c5-4127-8809-168dbee380ee",
   "metadata": {},
   "source": [
    "#########################################"
   ]
  },
  {
   "cell_type": "markdown",
   "id": "c0a1534a-d7a0-496e-a4b5-23f7a587420e",
   "metadata": {},
   "source": [
    "#### Untersuchen des Merkmals \"3D_secured\""
   ]
  },
  {
   "cell_type": "code",
   "execution_count": null,
   "id": "eba5f0f4-bd85-493d-8e17-ed8bc234e945",
   "metadata": {},
   "outputs": [],
   "source": [
    "# Erstelle einen neuen DataFrame für '3D_secured'\n",
    "df_3D_secured = df_psp_tmsp_date.groupby('3D_secured')['Id'].nunique().reset_index()\n",
    "df_3D_secured.columns = ['3D_secured', 'count']\n",
    "\n",
    "# Erstelle das Balkendiagramm\n",
    "fig = px.bar(df_3D_secured, x=\"3D_secured\", y=\"count\", title=\"Balkendiagramm für '3D_secured'\")\n",
    "fig.show()"
   ]
  },
  {
   "cell_type": "raw",
   "id": "d166261d-c6b0-4e7a-88dc-8b4ad4766ccc",
   "metadata": {},
   "source": [
    "#########################################"
   ]
  },
  {
   "cell_type": "markdown",
   "id": "04536050-500d-4e5f-bc85-0bca552f7487",
   "metadata": {},
   "source": [
    "#### Untersuchen des Merkmals \"card\""
   ]
  },
  {
   "cell_type": "code",
   "execution_count": null,
   "id": "0ff9f894-3ccc-4f9c-866c-41ffb1132d38",
   "metadata": {},
   "outputs": [],
   "source": [
    "# Erstelle einen neuen DataFrame für '3D_secured'\n",
    "df_card = df_psp_tmsp_date.groupby('card')['Id'].nunique().reset_index()\n",
    "df_card.columns = ['card', 'count']\n",
    "\n",
    "# Erstelle das Balkendiagramm\n",
    "fig = px.bar(df_card, x=\"card\", y=\"count\", title=\"Balkendiagramm für 'card'\")\n",
    "fig.show()"
   ]
  },
  {
   "cell_type": "raw",
   "id": "488f8463-46bb-4b59-a873-2e043be6c640",
   "metadata": {},
   "source": [
    "#########################################"
   ]
  },
  {
   "cell_type": "code",
   "execution_count": null,
   "id": "cad2743d-5a15-4433-ae93-825ea6b43f70",
   "metadata": {},
   "outputs": [],
   "source": []
  },
  {
   "cell_type": "code",
   "execution_count": null,
   "id": "5bc246ad-16fd-4c93-99fd-8e0e7c4cfcdb",
   "metadata": {},
   "outputs": [],
   "source": []
  },
  {
   "cell_type": "code",
   "execution_count": null,
   "id": "df71e8c9-bbf8-4c1d-b2e6-36367ce519f1",
   "metadata": {},
   "outputs": [],
   "source": []
  },
  {
   "cell_type": "code",
   "execution_count": null,
   "id": "1a7c8e74-7eae-421f-81a9-6bc3ea3e07f9",
   "metadata": {},
   "outputs": [],
   "source": []
  },
  {
   "cell_type": "markdown",
   "id": "a5832e88-4c43-425d-82a1-ed73b087b753",
   "metadata": {},
   "source": [
    "### Ausreißer Analyse mit PyOD"
   ]
  },
  {
   "cell_type": "code",
   "execution_count": 4,
   "id": "d16300f9-9438-4467-a94c-aa8a1fdef280",
   "metadata": {},
   "outputs": [
    {
     "data": {
      "text/html": [
       "<div>\n",
       "<style scoped>\n",
       "    .dataframe tbody tr th:only-of-type {\n",
       "        vertical-align: middle;\n",
       "    }\n",
       "\n",
       "    .dataframe tbody tr th {\n",
       "        vertical-align: top;\n",
       "    }\n",
       "\n",
       "    .dataframe thead th {\n",
       "        text-align: right;\n",
       "    }\n",
       "</style>\n",
       "<table border=\"1\" class=\"dataframe\">\n",
       "  <thead>\n",
       "    <tr style=\"text-align: right;\">\n",
       "      <th></th>\n",
       "      <th>Id</th>\n",
       "      <th>tmsp</th>\n",
       "      <th>country</th>\n",
       "      <th>amount</th>\n",
       "      <th>success</th>\n",
       "      <th>PSP</th>\n",
       "      <th>3D_secured</th>\n",
       "      <th>card</th>\n",
       "      <th>tmsp_seconds</th>\n",
       "    </tr>\n",
       "  </thead>\n",
       "  <tbody>\n",
       "    <tr>\n",
       "      <th>0</th>\n",
       "      <td>0</td>\n",
       "      <td>2019-01-01 00:01:11</td>\n",
       "      <td>Germany</td>\n",
       "      <td>89</td>\n",
       "      <td>0</td>\n",
       "      <td>UK_Card</td>\n",
       "      <td>0</td>\n",
       "      <td>Visa</td>\n",
       "      <td>1546300871</td>\n",
       "    </tr>\n",
       "    <tr>\n",
       "      <th>1</th>\n",
       "      <td>1</td>\n",
       "      <td>2019-01-01 00:01:17</td>\n",
       "      <td>Germany</td>\n",
       "      <td>89</td>\n",
       "      <td>1</td>\n",
       "      <td>UK_Card</td>\n",
       "      <td>0</td>\n",
       "      <td>Visa</td>\n",
       "      <td>1546300877</td>\n",
       "    </tr>\n",
       "    <tr>\n",
       "      <th>2</th>\n",
       "      <td>2</td>\n",
       "      <td>2019-01-01 00:02:49</td>\n",
       "      <td>Germany</td>\n",
       "      <td>238</td>\n",
       "      <td>0</td>\n",
       "      <td>UK_Card</td>\n",
       "      <td>1</td>\n",
       "      <td>Diners</td>\n",
       "      <td>1546300969</td>\n",
       "    </tr>\n",
       "    <tr>\n",
       "      <th>3</th>\n",
       "      <td>3</td>\n",
       "      <td>2019-01-01 00:03:13</td>\n",
       "      <td>Germany</td>\n",
       "      <td>238</td>\n",
       "      <td>1</td>\n",
       "      <td>UK_Card</td>\n",
       "      <td>1</td>\n",
       "      <td>Diners</td>\n",
       "      <td>1546300993</td>\n",
       "    </tr>\n",
       "    <tr>\n",
       "      <th>4</th>\n",
       "      <td>4</td>\n",
       "      <td>2019-01-01 00:04:33</td>\n",
       "      <td>Austria</td>\n",
       "      <td>124</td>\n",
       "      <td>0</td>\n",
       "      <td>Simplecard</td>\n",
       "      <td>0</td>\n",
       "      <td>Diners</td>\n",
       "      <td>1546301073</td>\n",
       "    </tr>\n",
       "  </tbody>\n",
       "</table>\n",
       "</div>"
      ],
      "text/plain": [
       "   Id                tmsp  country  amount  success         PSP  3D_secured  \\\n",
       "0   0 2019-01-01 00:01:11  Germany      89        0     UK_Card           0   \n",
       "1   1 2019-01-01 00:01:17  Germany      89        1     UK_Card           0   \n",
       "2   2 2019-01-01 00:02:49  Germany     238        0     UK_Card           1   \n",
       "3   3 2019-01-01 00:03:13  Germany     238        1     UK_Card           1   \n",
       "4   4 2019-01-01 00:04:33  Austria     124        0  Simplecard           0   \n",
       "\n",
       "     card  tmsp_seconds  \n",
       "0    Visa    1546300871  \n",
       "1    Visa    1546300877  \n",
       "2  Diners    1546300969  \n",
       "3  Diners    1546300993  \n",
       "4  Diners    1546301073  "
      ]
     },
     "execution_count": 4,
     "metadata": {},
     "output_type": "execute_result"
    }
   ],
   "source": [
    "# Konvertiere 'tmsp' in Sekunden seit der Unix-Epoche\n",
    "#df_psp['tmsp_seconds'] = (df_psp['tmsp'] - pd.Timestamp('1970-01-01')) // pd.Timedelta('1s')\n",
    "#df_psp.head()"
   ]
  },
  {
   "cell_type": "code",
   "execution_count": 5,
   "id": "55ed1971-608b-4d1c-a512-46423732a577",
   "metadata": {},
   "outputs": [
    {
     "data": {
      "text/html": [
       "<div>\n",
       "<style scoped>\n",
       "    .dataframe tbody tr th:only-of-type {\n",
       "        vertical-align: middle;\n",
       "    }\n",
       "\n",
       "    .dataframe tbody tr th {\n",
       "        vertical-align: top;\n",
       "    }\n",
       "\n",
       "    .dataframe thead th {\n",
       "        text-align: right;\n",
       "    }\n",
       "</style>\n",
       "<table border=\"1\" class=\"dataframe\">\n",
       "  <thead>\n",
       "    <tr style=\"text-align: right;\">\n",
       "      <th></th>\n",
       "      <th>Id</th>\n",
       "      <th>tmsp</th>\n",
       "      <th>country</th>\n",
       "      <th>amount</th>\n",
       "      <th>success</th>\n",
       "      <th>PSP</th>\n",
       "      <th>3D_secured</th>\n",
       "      <th>card</th>\n",
       "      <th>tmsp_seconds</th>\n",
       "      <th>outlier_score</th>\n",
       "      <th>outlier</th>\n",
       "    </tr>\n",
       "  </thead>\n",
       "  <tbody>\n",
       "    <tr>\n",
       "      <th>0</th>\n",
       "      <td>0</td>\n",
       "      <td>2019-01-01 00:01:11</td>\n",
       "      <td>Germany</td>\n",
       "      <td>89</td>\n",
       "      <td>0</td>\n",
       "      <td>UK_Card</td>\n",
       "      <td>0</td>\n",
       "      <td>Visa</td>\n",
       "      <td>1546300871</td>\n",
       "      <td>10.827945</td>\n",
       "      <td>1</td>\n",
       "    </tr>\n",
       "    <tr>\n",
       "      <th>1</th>\n",
       "      <td>1</td>\n",
       "      <td>2019-01-01 00:01:17</td>\n",
       "      <td>Germany</td>\n",
       "      <td>89</td>\n",
       "      <td>1</td>\n",
       "      <td>UK_Card</td>\n",
       "      <td>0</td>\n",
       "      <td>Visa</td>\n",
       "      <td>1546300877</td>\n",
       "      <td>10.134798</td>\n",
       "      <td>1</td>\n",
       "    </tr>\n",
       "    <tr>\n",
       "      <th>2</th>\n",
       "      <td>2</td>\n",
       "      <td>2019-01-01 00:02:49</td>\n",
       "      <td>Germany</td>\n",
       "      <td>238</td>\n",
       "      <td>0</td>\n",
       "      <td>UK_Card</td>\n",
       "      <td>1</td>\n",
       "      <td>Diners</td>\n",
       "      <td>1546300969</td>\n",
       "      <td>9.729333</td>\n",
       "      <td>1</td>\n",
       "    </tr>\n",
       "    <tr>\n",
       "      <th>3</th>\n",
       "      <td>3</td>\n",
       "      <td>2019-01-01 00:03:13</td>\n",
       "      <td>Germany</td>\n",
       "      <td>238</td>\n",
       "      <td>1</td>\n",
       "      <td>UK_Card</td>\n",
       "      <td>1</td>\n",
       "      <td>Diners</td>\n",
       "      <td>1546300993</td>\n",
       "      <td>9.441650</td>\n",
       "      <td>1</td>\n",
       "    </tr>\n",
       "    <tr>\n",
       "      <th>4</th>\n",
       "      <td>4</td>\n",
       "      <td>2019-01-01 00:04:33</td>\n",
       "      <td>Austria</td>\n",
       "      <td>124</td>\n",
       "      <td>0</td>\n",
       "      <td>Simplecard</td>\n",
       "      <td>0</td>\n",
       "      <td>Diners</td>\n",
       "      <td>1546301073</td>\n",
       "      <td>9.218507</td>\n",
       "      <td>1</td>\n",
       "    </tr>\n",
       "  </tbody>\n",
       "</table>\n",
       "</div>"
      ],
      "text/plain": [
       "   Id                tmsp  country  amount  success         PSP  3D_secured  \\\n",
       "0   0 2019-01-01 00:01:11  Germany      89        0     UK_Card           0   \n",
       "1   1 2019-01-01 00:01:17  Germany      89        1     UK_Card           0   \n",
       "2   2 2019-01-01 00:02:49  Germany     238        0     UK_Card           1   \n",
       "3   3 2019-01-01 00:03:13  Germany     238        1     UK_Card           1   \n",
       "4   4 2019-01-01 00:04:33  Austria     124        0  Simplecard           0   \n",
       "\n",
       "     card  tmsp_seconds  outlier_score  outlier  \n",
       "0    Visa    1546300871      10.827945        1  \n",
       "1    Visa    1546300877      10.134798        1  \n",
       "2  Diners    1546300969       9.729333        1  \n",
       "3  Diners    1546300993       9.441650        1  \n",
       "4  Diners    1546301073       9.218507        1  "
      ]
     },
     "execution_count": 5,
     "metadata": {},
     "output_type": "execute_result"
    }
   ],
   "source": [
    "\n",
    "# Wählen Sie die numerischen Spalten aus\n",
    "#df_psp_numerical_ECOD = df_psp[[\"Id\", \"amount\", \"success\"]]\n",
    "df_psp_numerical_ECOD = df_psp[[\"tmsp_seconds\"]]\n",
    "\n",
    "# Instanziieren Sie das ECOF-Modell\n",
    "clf = ECOD(contamination=0.01)  # setze den Anteil der Ausreißer auf 1%\n",
    "\n",
    "# Führe die Modellanpassung aus\n",
    "clf.fit(df_psp_numerical_ECOD)\n",
    "\n",
    "# Berechne die Ausreißerwahrscheinlichkeit für jeden Datenpunkt\n",
    "scores_pred = clf.decision_function(df_psp_numerical_ECOD)\n",
    "\n",
    "# Klassifiziere die Datenpunkte als inliers (1) oder outliers (-1)\n",
    "y_pred = clf.predict(df_psp_numerical_ECOD)\n",
    "\n",
    "# Erstelle einen neuen DataFrame und füge die Ausreißerwahrscheinlichkeit und die Klassifikation hinzu\n",
    "df_psp_outliers_ECOD = df_psp.copy()\n",
    "df_psp_outliers_ECOD['outlier_score'] = scores_pred\n",
    "df_psp_outliers_ECOD['outlier'] = y_pred\n",
    "df_psp_outliers_ECOD.head()"
   ]
  },
  {
   "cell_type": "code",
   "execution_count": 6,
   "id": "464b6a68-c332-442a-ab56-d22650aa06d8",
   "metadata": {
    "scrolled": true
   },
   "outputs": [
    {
     "data": {
      "text/html": [
       "<div>\n",
       "<style scoped>\n",
       "    .dataframe tbody tr th:only-of-type {\n",
       "        vertical-align: middle;\n",
       "    }\n",
       "\n",
       "    .dataframe tbody tr th {\n",
       "        vertical-align: top;\n",
       "    }\n",
       "\n",
       "    .dataframe thead th {\n",
       "        text-align: right;\n",
       "    }\n",
       "</style>\n",
       "<table border=\"1\" class=\"dataframe\">\n",
       "  <thead>\n",
       "    <tr style=\"text-align: right;\">\n",
       "      <th></th>\n",
       "      <th>Id</th>\n",
       "      <th>tmsp</th>\n",
       "      <th>country</th>\n",
       "      <th>amount</th>\n",
       "      <th>success</th>\n",
       "      <th>PSP</th>\n",
       "      <th>3D_secured</th>\n",
       "      <th>card</th>\n",
       "      <th>tmsp_seconds</th>\n",
       "      <th>outlier_score</th>\n",
       "      <th>outlier</th>\n",
       "    </tr>\n",
       "  </thead>\n",
       "  <tbody>\n",
       "    <tr>\n",
       "      <th>0</th>\n",
       "      <td>0</td>\n",
       "      <td>2019-01-01 00:01:11</td>\n",
       "      <td>Germany</td>\n",
       "      <td>89</td>\n",
       "      <td>0</td>\n",
       "      <td>UK_Card</td>\n",
       "      <td>0</td>\n",
       "      <td>Visa</td>\n",
       "      <td>1546300871</td>\n",
       "      <td>10.827945</td>\n",
       "      <td>1</td>\n",
       "    </tr>\n",
       "    <tr>\n",
       "      <th>50409</th>\n",
       "      <td>50409</td>\n",
       "      <td>2019-02-28 23:48:19</td>\n",
       "      <td>Austria</td>\n",
       "      <td>91</td>\n",
       "      <td>1</td>\n",
       "      <td>Moneycard</td>\n",
       "      <td>0</td>\n",
       "      <td>Master</td>\n",
       "      <td>1551397699</td>\n",
       "      <td>10.827945</td>\n",
       "      <td>1</td>\n",
       "    </tr>\n",
       "    <tr>\n",
       "      <th>50408</th>\n",
       "      <td>50408</td>\n",
       "      <td>2019-02-28 23:47:36</td>\n",
       "      <td>Austria</td>\n",
       "      <td>91</td>\n",
       "      <td>0</td>\n",
       "      <td>UK_Card</td>\n",
       "      <td>0</td>\n",
       "      <td>Master</td>\n",
       "      <td>1551397656</td>\n",
       "      <td>10.134798</td>\n",
       "      <td>1</td>\n",
       "    </tr>\n",
       "    <tr>\n",
       "      <th>1</th>\n",
       "      <td>1</td>\n",
       "      <td>2019-01-01 00:01:17</td>\n",
       "      <td>Germany</td>\n",
       "      <td>89</td>\n",
       "      <td>1</td>\n",
       "      <td>UK_Card</td>\n",
       "      <td>0</td>\n",
       "      <td>Visa</td>\n",
       "      <td>1546300877</td>\n",
       "      <td>10.134798</td>\n",
       "      <td>1</td>\n",
       "    </tr>\n",
       "    <tr>\n",
       "      <th>2</th>\n",
       "      <td>2</td>\n",
       "      <td>2019-01-01 00:02:49</td>\n",
       "      <td>Germany</td>\n",
       "      <td>238</td>\n",
       "      <td>0</td>\n",
       "      <td>UK_Card</td>\n",
       "      <td>1</td>\n",
       "      <td>Diners</td>\n",
       "      <td>1546300969</td>\n",
       "      <td>9.729333</td>\n",
       "      <td>1</td>\n",
       "    </tr>\n",
       "    <tr>\n",
       "      <th>...</th>\n",
       "      <td>...</td>\n",
       "      <td>...</td>\n",
       "      <td>...</td>\n",
       "      <td>...</td>\n",
       "      <td>...</td>\n",
       "      <td>...</td>\n",
       "      <td>...</td>\n",
       "      <td>...</td>\n",
       "      <td>...</td>\n",
       "      <td>...</td>\n",
       "      <td>...</td>\n",
       "    </tr>\n",
       "    <tr>\n",
       "      <th>25207</th>\n",
       "      <td>25207</td>\n",
       "      <td>2019-01-30 15:27:33</td>\n",
       "      <td>Germany</td>\n",
       "      <td>199</td>\n",
       "      <td>1</td>\n",
       "      <td>Moneycard</td>\n",
       "      <td>0</td>\n",
       "      <td>Master</td>\n",
       "      <td>1548862053</td>\n",
       "      <td>0.693227</td>\n",
       "      <td>0</td>\n",
       "    </tr>\n",
       "    <tr>\n",
       "      <th>25206</th>\n",
       "      <td>25206</td>\n",
       "      <td>2019-01-30 15:24:14</td>\n",
       "      <td>Austria</td>\n",
       "      <td>44</td>\n",
       "      <td>1</td>\n",
       "      <td>Moneycard</td>\n",
       "      <td>1</td>\n",
       "      <td>Master</td>\n",
       "      <td>1548861854</td>\n",
       "      <td>0.693187</td>\n",
       "      <td>0</td>\n",
       "    </tr>\n",
       "    <tr>\n",
       "      <th>25203</th>\n",
       "      <td>25203</td>\n",
       "      <td>2019-01-30 15:17:32</td>\n",
       "      <td>Austria</td>\n",
       "      <td>95</td>\n",
       "      <td>1</td>\n",
       "      <td>UK_Card</td>\n",
       "      <td>0</td>\n",
       "      <td>Visa</td>\n",
       "      <td>1548861452</td>\n",
       "      <td>0.693187</td>\n",
       "      <td>0</td>\n",
       "    </tr>\n",
       "    <tr>\n",
       "      <th>25204</th>\n",
       "      <td>25204</td>\n",
       "      <td>2019-01-30 15:19:10</td>\n",
       "      <td>Austria</td>\n",
       "      <td>165</td>\n",
       "      <td>0</td>\n",
       "      <td>Moneycard</td>\n",
       "      <td>0</td>\n",
       "      <td>Visa</td>\n",
       "      <td>1548861550</td>\n",
       "      <td>0.693147</td>\n",
       "      <td>0</td>\n",
       "    </tr>\n",
       "    <tr>\n",
       "      <th>25205</th>\n",
       "      <td>25205</td>\n",
       "      <td>2019-01-30 15:21:05</td>\n",
       "      <td>Austria</td>\n",
       "      <td>227</td>\n",
       "      <td>0</td>\n",
       "      <td>Simplecard</td>\n",
       "      <td>0</td>\n",
       "      <td>Master</td>\n",
       "      <td>1548861665</td>\n",
       "      <td>0.693147</td>\n",
       "      <td>0</td>\n",
       "    </tr>\n",
       "  </tbody>\n",
       "</table>\n",
       "<p>50410 rows × 11 columns</p>\n",
       "</div>"
      ],
      "text/plain": [
       "          Id                tmsp  country  amount  success         PSP  \\\n",
       "0          0 2019-01-01 00:01:11  Germany      89        0     UK_Card   \n",
       "50409  50409 2019-02-28 23:48:19  Austria      91        1   Moneycard   \n",
       "50408  50408 2019-02-28 23:47:36  Austria      91        0     UK_Card   \n",
       "1          1 2019-01-01 00:01:17  Germany      89        1     UK_Card   \n",
       "2          2 2019-01-01 00:02:49  Germany     238        0     UK_Card   \n",
       "...      ...                 ...      ...     ...      ...         ...   \n",
       "25207  25207 2019-01-30 15:27:33  Germany     199        1   Moneycard   \n",
       "25206  25206 2019-01-30 15:24:14  Austria      44        1   Moneycard   \n",
       "25203  25203 2019-01-30 15:17:32  Austria      95        1     UK_Card   \n",
       "25204  25204 2019-01-30 15:19:10  Austria     165        0   Moneycard   \n",
       "25205  25205 2019-01-30 15:21:05  Austria     227        0  Simplecard   \n",
       "\n",
       "       3D_secured    card  tmsp_seconds  outlier_score  outlier  \n",
       "0               0    Visa    1546300871      10.827945        1  \n",
       "50409           0  Master    1551397699      10.827945        1  \n",
       "50408           0  Master    1551397656      10.134798        1  \n",
       "1               0    Visa    1546300877      10.134798        1  \n",
       "2               1  Diners    1546300969       9.729333        1  \n",
       "...           ...     ...           ...            ...      ...  \n",
       "25207           0  Master    1548862053       0.693227        0  \n",
       "25206           1  Master    1548861854       0.693187        0  \n",
       "25203           0    Visa    1548861452       0.693187        0  \n",
       "25204           0    Visa    1548861550       0.693147        0  \n",
       "25205           0  Master    1548861665       0.693147        0  \n",
       "\n",
       "[50410 rows x 11 columns]"
      ]
     },
     "execution_count": 6,
     "metadata": {},
     "output_type": "execute_result"
    }
   ],
   "source": [
    "df_psp_outliers_ECOD.sort_values(\"outlier_score\", ascending=False)"
   ]
  },
  {
   "cell_type": "code",
   "execution_count": null,
   "id": "83f9e85f-5028-4f44-bce7-7a18b588c666",
   "metadata": {},
   "outputs": [],
   "source": [
    "# Wählen Sie die numerischen Spalten aus\n",
    "#df_psp_numerical_KNN = df_psp[[\"Id\", \"amount\", \"success\"]]\n",
    "df_psp_numerical_KNN = df_psp[[\"amount\"]]\n",
    "\n",
    "# Instanziieren Sie das KNN-Modell\n",
    "clf = KNN(contamination=0.01)  # setze den Anteil der Ausreißer auf 1%\n",
    "\n",
    "# Führe die Modellanpassung aus\n",
    "clf.fit(df_psp_numerical_KNN)\n",
    "\n",
    "# Berechne die Ausreißerwahrscheinlichkeit für jeden Datenpunkt\n",
    "scores_pred = clf.decision_function(df_psp_numerical_KNN)\n",
    "\n",
    "# Klassifiziere die Datenpunkte als inliers (1) oder outliers (-1)\n",
    "y_pred = clf.predict(df_psp_numerical_KNN)\n",
    "\n",
    "# Erstelle einen neuen DataFrame und füge die Ausreißerwahrscheinlichkeit und die Klassifikation hinzu\n",
    "df_psp_outliers_KNN = df_psp.copy()\n",
    "df_psp_outliers_KNN['outlier_score'] = scores_pred\n",
    "df_psp_outliers_KNN['outlier'] = y_pred"
   ]
  },
  {
   "cell_type": "code",
   "execution_count": null,
   "id": "e776fa9a-9072-4bb8-8ad1-160093c00a94",
   "metadata": {},
   "outputs": [],
   "source": [
    "df_psp_outliers_KNN.head()"
   ]
  },
  {
   "cell_type": "code",
   "execution_count": null,
   "id": "e8026065-888e-4e64-b2a7-7bc69376f21f",
   "metadata": {
    "scrolled": true
   },
   "outputs": [],
   "source": [
    "df_psp_outliers_KNN.sort_values(\"outlier_score\", ascending=False).head(55)"
   ]
  },
  {
   "cell_type": "code",
   "execution_count": null,
   "id": "0f13a928-a76d-4aa9-bf65-3488ac36fc7c",
   "metadata": {},
   "outputs": [],
   "source": [
    "\n",
    "# Erstelle ein Histogramm der outlier_score-Werte\n",
    "fig = px.histogram(df_psp_outliers_KNN, x=\"outlier_score\", title=\"Histogramm der outlier_score-Werte\")\n",
    "fig.show()\n",
    "\n",
    "# Erstelle ein Streudiagramm von 'amount' gegen 'outlier_score'\n",
    "fig = go.Figure()\n",
    "fig.add_trace(go.Scatter(\n",
    "    x=df_psp_outliers_KNN['amount'],\n",
    "    y=df_psp_outliers_KNN['outlier_score'],\n",
    "    mode='markers',\n",
    "    marker=dict(\n",
    "        color=df_psp_outliers_KNN['outlier'],\n",
    "        colorscale='Viridis',\n",
    "        opacity=0.8,\n",
    "        size=5\n",
    "    ),\n",
    "    text=df_psp_outliers_KNN.index,\n",
    "))\n",
    "fig.update_layout(title='Streudiagramm von amount gegen outlier_score', \n",
    "                  xaxis_title='amount', yaxis_title='outlier_score')\n",
    "fig.show()"
   ]
  },
  {
   "cell_type": "code",
   "execution_count": null,
   "id": "684fa9cb-86ec-4cdd-a4a9-82d97e0391fd",
   "metadata": {},
   "outputs": [],
   "source": [
    "#Alles über 541 abschneiden"
   ]
  },
  {
   "cell_type": "raw",
   "id": "f1d93e3b-5297-4cd6-ad9b-1323a4cf495b",
   "metadata": {},
   "source": [
    "#########################################"
   ]
  },
  {
   "cell_type": "code",
   "execution_count": 21,
   "id": "89b7352d-5c8c-4663-8b0e-f3ca7627f15e",
   "metadata": {},
   "outputs": [
    {
     "name": "stdout",
     "output_type": "stream",
     "text": [
      "PSP     Goldcard  Moneycard  Simplecard  UK_Card\n",
      "card                                            \n",
      "Diners       670       1667        2356     5075\n",
      "Master      1763       4765        7245    15229\n",
      "Visa         775       1865        2845     6155\n",
      "\n",
      "Chi-Quadrat Statistik: 16.04005658272315\n",
      "p-Wert: 0.013540575127843202\n"
     ]
    }
   ],
   "source": [
    "\n",
    "# Erstellen Sie eine Kreuztabelle der Variablen 'card' und 'PSP'\n",
    "cross_tab = pd.crosstab(df_psp['card'], df_psp['PSP'])\n",
    "\n",
    "print(cross_tab)\n",
    "\n",
    "# Führen Sie den Chi-Quadrat-Test durch\n",
    "chi2, p, dof, expected = chi2_contingency(cross_tab)\n",
    "\n",
    "print(f\"\\nChi-Quadrat Statistik: {chi2}\")\n",
    "print(f\"p-Wert: {p}\")"
   ]
  },
  {
   "cell_type": "code",
   "execution_count": 20,
   "id": "7c7af8d8-f38e-4b1c-a1e9-16c5a8f9e7cc",
   "metadata": {},
   "outputs": [
    {
     "name": "stdout",
     "output_type": "stream",
     "text": [
      "PSP      Goldcard  Moneycard  Simplecard  UK_Card\n",
      "success                                          \n",
      "0            1905       6482       10478    21317\n",
      "1            1303       1815        1968     5142\n",
      "\n",
      "Chi-Quadrat Statistik: 998.7783848081615\n",
      "p-Wert: 3.312365253382584e-216\n"
     ]
    }
   ],
   "source": [
    "\n",
    "# Erstellen Sie eine Kreuztabelle der Variablen 'Success' und 'PSP'\n",
    "cross_tab = pd.crosstab(df_psp['success'], df_psp['PSP'])\n",
    "\n",
    "print(cross_tab)\n",
    "\n",
    "# Führen Sie den Chi-Quadrat-Test durch\n",
    "chi2, p, dof, expected = chi2_contingency(cross_tab)\n",
    "\n",
    "print(f\"\\nChi-Quadrat Statistik: {chi2}\")\n",
    "print(f\"p-Wert: {p}\")"
   ]
  },
  {
   "cell_type": "markdown",
   "id": "19528c25-bb3c-45e4-8656-652bca8aff57",
   "metadata": {},
   "source": [
    "### Korrelationsanalyse"
   ]
  },
  {
   "cell_type": "code",
   "execution_count": 29,
   "id": "f7a40cfa-b6b0-42b3-bf11-38fb5f6f6648",
   "metadata": {
    "scrolled": true
   },
   "outputs": [
    {
     "name": "stdout",
     "output_type": "stream",
     "text": [
      "                  amount  PSP_Goldcard  PSP_Moneycard  PSP_Simplecard  \\\n",
      "amount          1.000000      0.002707      -0.002318       -0.006180   \n",
      "PSP_Goldcard    0.002707      1.000000      -0.115715       -0.149268   \n",
      "PSP_Moneycard  -0.002318     -0.115715       1.000000       -0.254145   \n",
      "PSP_Simplecard -0.006180     -0.149268      -0.254145        1.000000   \n",
      "PSP_UK_Card     0.005734     -0.274007      -0.466528       -0.601802   \n",
      "\n",
      "                PSP_UK_Card  \n",
      "amount             0.005734  \n",
      "PSP_Goldcard      -0.274007  \n",
      "PSP_Moneycard     -0.466528  \n",
      "PSP_Simplecard    -0.601802  \n",
      "PSP_UK_Card        1.000000  \n"
     ]
    }
   ],
   "source": [
    "df_encoded_psp = pd.get_dummies(df_psp, columns=['PSP'])\n",
    "df_encoded_psp.head()\n",
    "correlation_matrix_psp = df_encoded_psp[['amount','PSP_Goldcard', 'PSP_Moneycard', 'PSP_Simplecard', 'PSP_UK_Card']].corr()\n",
    "print(correlation_matrix_psp)"
   ]
  },
  {
   "cell_type": "code",
   "execution_count": 42,
   "id": "25d254da-daa5-4308-aecc-3b671830b129",
   "metadata": {},
   "outputs": [
    {
     "name": "stdout",
     "output_type": "stream",
     "text": [
      "               amount  card_Diners  card_Master  card_Visa\n",
      "amount       1.000000     0.000303    -0.002547   0.002703\n",
      "card_Diners  0.000303     1.000000    -0.570612  -0.268623\n",
      "card_Master -0.002547    -0.570612     1.000000  -0.637756\n",
      "card_Visa    0.002703    -0.268623    -0.637756   1.000000\n"
     ]
    }
   ],
   "source": [
    "df_encoded_card = pd.get_dummies(df_psp, columns=['card'])\n",
    "#df_encoded_card.head()\n",
    "correlation_matrix_card = df_encoded_card[['amount','card_Diners', 'card_Master', 'card_Visa']].corr()\n",
    "print(correlation_matrix_card)"
   ]
  },
  {
   "cell_type": "code",
   "execution_count": 41,
   "id": "da59f764-80c6-45a3-8da8-c70004d5ba77",
   "metadata": {},
   "outputs": [
    {
     "name": "stdout",
     "output_type": "stream",
     "text": [
      "             success_0  success_1  card_Diners  card_Master  card_Visa\n",
      "success_0     1.000000  -1.000000    -0.024474     0.026086  -0.007642\n",
      "success_1    -1.000000   1.000000     0.024474    -0.026086   0.007642\n",
      "card_Diners  -0.024474   0.024474     1.000000    -0.570612  -0.268623\n",
      "card_Master   0.026086  -0.026086    -0.570612     1.000000  -0.637756\n",
      "card_Visa    -0.007642   0.007642    -0.268623    -0.637756   1.000000\n"
     ]
    }
   ],
   "source": [
    "df_encoded_card_success = pd.get_dummies(df_psp, columns=['card'])\n",
    "df_encoded_card_success = pd.get_dummies(df_encoded_card_success, columns=['success'])\n",
    "df_encoded_card_success.head()\n",
    "correlation_matrix_card_success = df_encoded_card_success[['success_0','success_1', 'card_Diners', 'card_Master', 'card_Visa']].corr()\n",
    "print(correlation_matrix_card_success)"
   ]
  },
  {
   "cell_type": "code",
   "execution_count": 46,
   "id": "3239e042-ee3e-4a5d-be64-ba27259d985f",
   "metadata": {},
   "outputs": [
    {
     "name": "stdout",
     "output_type": "stream",
     "text": [
      "                success_0  success_1  PSP_Goldcard  PSP_Moneycard  \\\n",
      "success_0        1.000000  -1.000000     -0.131774      -0.017502   \n",
      "success_1       -1.000000   1.000000      0.131774       0.017502   \n",
      "PSP_Goldcard    -0.131774   0.131774      1.000000      -0.115715   \n",
      "PSP_Moneycard   -0.017502   0.017502     -0.115715       1.000000   \n",
      "PSP_Simplecard   0.063746  -0.063746     -0.149268      -0.254145   \n",
      "PSP_UK_Card      0.022366  -0.022366     -0.274007      -0.466528   \n",
      "\n",
      "                PSP_Simplecard  PSP_UK_Card  \n",
      "success_0             0.063746     0.022366  \n",
      "success_1            -0.063746    -0.022366  \n",
      "PSP_Goldcard         -0.149268    -0.274007  \n",
      "PSP_Moneycard        -0.254145    -0.466528  \n",
      "PSP_Simplecard        1.000000    -0.601802  \n",
      "PSP_UK_Card          -0.601802     1.000000  \n"
     ]
    }
   ],
   "source": [
    "df_encoded_psp_success = pd.get_dummies(df_psp, columns=['PSP'])\n",
    "df_encoded_psp_success = pd.get_dummies(df_encoded_psp_success, columns=['success'])\n",
    "df_encoded_psp_success.head()\n",
    "correlation_matrix_psp_success = df_encoded_psp_success[['success_0','success_1', 'PSP_Goldcard', 'PSP_Moneycard', 'PSP_Simplecard', 'PSP_UK_Card']].corr()\n",
    "print(correlation_matrix_psp_success)"
   ]
  }
 ],
 "metadata": {
  "kernelspec": {
   "display_name": "Python 3 (ipykernel)",
   "language": "python",
   "name": "python3"
  },
  "language_info": {
   "codemirror_mode": {
    "name": "ipython",
    "version": 3
   },
   "file_extension": ".py",
   "mimetype": "text/x-python",
   "name": "python",
   "nbconvert_exporter": "python",
   "pygments_lexer": "ipython3",
   "version": "3.11.4"
  }
 },
 "nbformat": 4,
 "nbformat_minor": 5
}
